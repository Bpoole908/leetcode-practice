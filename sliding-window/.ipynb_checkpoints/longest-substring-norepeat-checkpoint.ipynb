{
 "cells": [
  {
   "cell_type": "markdown",
   "id": "148125b6-80b8-4562-ac7e-cc225e8bb2f7",
   "metadata": {},
   "source": [
    "# Longest SubString No Repeat"
   ]
  },
  {
   "cell_type": "code",
   "execution_count": 52,
   "id": "b9ad90e1-2045-41c2-b8b9-af790cf88bce",
   "metadata": {},
   "outputs": [],
   "source": [
    "def find_longest_substring_norepeat(letters):\n",
    "    max_substring = []\n",
    "    for i in range(len(letters)):\n",
    "        seen = set()\n",
    "        j = i\n",
    "        while  j < len(letters) and letters[j] not in seen:\n",
    "            seen.add(letters[j])\n",
    "            print(seen,  len(seen), len(max_substring))\n",
    "            if len(seen) > len(max_substring):\n",
    "                max_substring = seen\n",
    "            j += 1  \n",
    "    return max_substring"
   ]
  },
  {
   "cell_type": "code",
   "execution_count": 9,
   "id": "ecbe2f70-3d59-4587-acd8-e352ad2f7e4a",
   "metadata": {},
   "outputs": [],
   "source": [
    "def find_longest_substring_norepeat(letters):\n",
    "    # Dynamic sliding window\n",
    "    max_substring = 0\n",
    "    # Time O(n), space O(1) or O(26) if every string is unique\n",
    "    for i in range(len(letters)):\n",
    "        seen = set()\n",
    "        j = i\n",
    "        # Starting j from i so every character is seen\n",
    "        while j < len(letters) and letters[j] not in seen:\n",
    "            seen.add(letters[j])\n",
    "            print(max_substring, i, j, (j-i)+1)\n",
    "            max_substring = max(max_substring, (j-i)+1)\n",
    "            j += 1  \n",
    "    return max_substring"
   ]
  },
  {
   "cell_type": "code",
   "execution_count": 56,
   "id": "39007fe9-3f21-4d63-a897-502e896458cb",
   "metadata": {},
   "outputs": [],
   "source": [
    "def find_longest_substring_norepeat(letters):\n",
    "    # Time O(n), space O(1) or O(26) if every string is unique\n",
    "    left = max_length = 0\n",
    "    char_set = set()\n",
    "    \n",
    "    for right in range(len(letters)):\n",
    "        # Remove all chars up to and including right\n",
    "        while letters[right] in char_set:\n",
    "            print(right, letters[right] , char_set,  letters[right] in char_set)\n",
    "            char_set.remove(letters[left])\n",
    "            left += 1\n",
    "\n",
    "        char_set.add(letters[right])\n",
    "        max_length = max(max_length, right - left + 1)\n",
    "    \n",
    "    return max_length"
   ]
  },
  {
   "cell_type": "code",
   "execution_count": 46,
   "id": "bcd87795-c311-4043-ae6b-8b8e72025f69",
   "metadata": {},
   "outputs": [
    {
     "name": "stdout",
     "output_type": "stream",
     "text": [
      "a set() False\n",
      "0 set()\n",
      "b {'a'} False\n",
      "0 {'a'}\n",
      "c {'b', 'a'} False\n",
      "0 {'b', 'a'}\n",
      "a {'b', 'a', 'c'} True\n",
      "1 {'b', 'c'}\n",
      "b {'b', 'a', 'c'} True\n",
      "2 {'a', 'c'}\n",
      "c {'c', 'b', 'a'} True\n",
      "3 {'b', 'a'}\n",
      "b {'c', 'b', 'a'} True\n",
      "5 {'c'}\n",
      "b {'c', 'b'} True\n",
      "7 set()\n"
     ]
    }
   ],
   "source": [
    "output = find_longest_substring_norepeat(['a','b','c','a','b','c','b','b'])\n",
    "assert output == 3"
   ]
  },
  {
   "cell_type": "code",
   "execution_count": 47,
   "id": "a8b6ca26-3cb7-43df-bb12-564c185bda81",
   "metadata": {},
   "outputs": [
    {
     "name": "stdout",
     "output_type": "stream",
     "text": [
      "b set() False\n",
      "0 set()\n",
      "b {'b'} True\n",
      "1 set()\n",
      "b {'b'} True\n",
      "2 set()\n",
      "b {'b'} True\n",
      "3 set()\n",
      "b {'b'} True\n",
      "4 set()\n"
     ]
    }
   ],
   "source": [
    "output = find_longest_substring_norepeat(\"bbbbb\")\n",
    "assert output == 1"
   ]
  },
  {
   "cell_type": "code",
   "execution_count": 57,
   "id": "f22310bd-1002-4fc1-b4f9-a03ecd8a6ca2",
   "metadata": {},
   "outputs": [
    {
     "name": "stdout",
     "output_type": "stream",
     "text": [
      "2 w {'p', 'w'} True\n",
      "2 w {'w'} True\n",
      "5 w {'k', 'e', 'w'} True\n",
      "3\n"
     ]
    }
   ],
   "source": [
    "output = find_longest_substring_norepeat(\"pwwkew\")\n",
    "print(output)\n",
    "assert output == 3"
   ]
  }
 ],
 "metadata": {
  "kernelspec": {
   "display_name": "Python 3 (ipykernel)",
   "language": "python",
   "name": "python3"
  },
  "language_info": {
   "codemirror_mode": {
    "name": "ipython",
    "version": 3
   },
   "file_extension": ".py",
   "mimetype": "text/x-python",
   "name": "python",
   "nbconvert_exporter": "python",
   "pygments_lexer": "ipython3",
   "version": "3.9.19"
  }
 },
 "nbformat": 4,
 "nbformat_minor": 5
}
