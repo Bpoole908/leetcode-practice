{
 "cells": [
  {
   "cell_type": "markdown",
   "id": "148125b6-80b8-4562-ac7e-cc225e8bb2f7",
   "metadata": {},
   "source": [
    "# Longest SubString No Repeat"
   ]
  },
  {
   "cell_type": "code",
   "execution_count": 52,
   "id": "b9ad90e1-2045-41c2-b8b9-af790cf88bce",
   "metadata": {},
   "outputs": [],
   "source": [
    "def find_longest_substring_norepeat(letters):\n",
    "    max_substring = []\n",
    "    for i in range(len(letters)):\n",
    "        seen = set()\n",
    "        j = i\n",
    "        while  j < len(letters) and letters[j] not in seen:\n",
    "            seen.add(letters[j])\n",
    "            print(seen,  len(seen), len(max_substring))\n",
    "            if len(seen) > len(max_substring):\n",
    "                max_substring = seen\n",
    "            j += 1  \n",
    "    return max_substring"
   ]
  },
  {
   "cell_type": "code",
   "execution_count": 48,
   "id": "ecbe2f70-3d59-4587-acd8-e352ad2f7e4a",
   "metadata": {},
   "outputs": [],
   "source": [
    "def find_longest_substring_norepeat(letters):\n",
    "    max_substring = 0\n",
    "    for i in range(len(letters)):\n",
    "        seen = set()\n",
    "        j = a\n",
    "        while j < len(letters) and letters[j] not in seen:\n",
    "            seen.add(letters[j])\n",
    "            print(max_substring, i, j, (j-i)+1)\n",
    "            max_substring = max(max_substring, (j-i)+1)\n",
    "            j += 1  \n",
    "    return max_substring"
   ]
  },
  {
   "cell_type": "code",
   "execution_count": 13,
   "id": "d85befc9-e3c1-4e2e-bf4e-67d0fb81a1c4",
   "metadata": {},
   "outputs": [],
   "source": [
    "def find_longest_substring_norepeat(letters):\n",
    "    max_length = 0\n",
    "    last_index = {}\n",
    "    \n",
    "    start = 0\n",
    "    # O(n) time, constant space\n",
    "    for end in range(len(letters)):\n",
    "        curr = letters[end]\n",
    "        # Iterate start pointer to prevent duplicates\n",
    "        start = max(start, last_index.get(curr, 0))\n",
    "        max_length = max(max_length, end - start + 1)\n",
    "        # set last index char was seen that would not include it\n",
    "        last_index[curr] = end + 1\n",
    "        \n",
    "    return max_length"
   ]
  },
  {
   "cell_type": "code",
   "execution_count": 18,
   "id": "bcd87795-c311-4043-ae6b-8b8e72025f69",
   "metadata": {},
   "outputs": [
    {
     "name": "stdout",
     "output_type": "stream",
     "text": [
      "4\n"
     ]
    }
   ],
   "source": [
    "output = find_longest_substring_norepeat(['a','e','c','a','b','c','b','b'])\n",
    "print(output)\n",
    "assert output == 4"
   ]
  },
  {
   "cell_type": "code",
   "execution_count": 15,
   "id": "a8b6ca26-3cb7-43df-bb12-564c185bda81",
   "metadata": {},
   "outputs": [
    {
     "name": "stdout",
     "output_type": "stream",
     "text": [
      "1\n"
     ]
    }
   ],
   "source": [
    "output = find_longest_substring_norepeat(\"bbbbb\")\n",
    "print(output)\n",
    "assert output == 1"
   ]
  },
  {
   "cell_type": "code",
   "execution_count": 16,
   "id": "af19752d-bdb4-42da-8538-93d4b3141ac3",
   "metadata": {},
   "outputs": [
    {
     "name": "stdout",
     "output_type": "stream",
     "text": [
      "3\n"
     ]
    }
   ],
   "source": [
    "output = find_longest_substring_norepeat(\"pwwkew\")\n",
    "print(output)\n",
    "assert output == 3"
   ]
  }
 ],
 "metadata": {
  "kernelspec": {
   "display_name": "Python 3 (ipykernel)",
   "language": "python",
   "name": "python3"
  },
  "language_info": {
   "codemirror_mode": {
    "name": "ipython",
    "version": 3
   },
   "file_extension": ".py",
   "mimetype": "text/x-python",
   "name": "python",
   "nbconvert_exporter": "python",
   "pygments_lexer": "ipython3",
   "version": "3.12.9"
  }
 },
 "nbformat": 4,
 "nbformat_minor": 5
}
