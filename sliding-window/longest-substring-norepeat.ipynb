{
 "cells": [
  {
   "cell_type": "markdown",
   "id": "148125b6-80b8-4562-ac7e-cc225e8bb2f7",
   "metadata": {},
   "source": [
    "# Longest SubString No Repeat"
   ]
  },
  {
   "cell_type": "code",
   "execution_count": 52,
   "id": "b9ad90e1-2045-41c2-b8b9-af790cf88bce",
   "metadata": {},
   "outputs": [],
   "source": [
    "def find_longest_substring_norepeat(letters):\n",
    "    max_substring = []\n",
    "    for i in range(len(letters)):\n",
    "        seen = set()\n",
    "        j = i\n",
    "        while  j < len(letters) and letters[j] not in seen:\n",
    "            seen.add(letters[j])\n",
    "            print(seen,  len(seen), len(max_substring))\n",
    "            if len(seen) > len(max_substring):\n",
    "                max_substring = seen\n",
    "            j += 1  \n",
    "    return max_substring"
   ]
  },
  {
   "cell_type": "code",
   "execution_count": 48,
   "id": "ecbe2f70-3d59-4587-acd8-e352ad2f7e4a",
   "metadata": {},
   "outputs": [],
   "source": [
    "def find_longest_substring_norepeat(letters):\n",
    "    max_substring = 0\n",
    "    for i in range(len(letters)):\n",
    "        seen = set()\n",
    "        j = i\n",
    "        while j < len(letters) and letters[j] not in seen:\n",
    "            seen.add(letters[j])\n",
    "            print(max_substring, i, j, (j-i)+1)\n",
    "            max_substring = max(max_substring, (j-i)+1)\n",
    "            j += 1  \n",
    "    return max_substring"
   ]
  },
  {
   "cell_type": "code",
   "execution_count": 53,
   "id": "bcd87795-c311-4043-ae6b-8b8e72025f69",
   "metadata": {},
   "outputs": [
    {
     "name": "stdout",
     "output_type": "stream",
     "text": [
      "{'a'} 1 0\n",
      "{'a', 'b'} 2 2\n",
      "{'c', 'a', 'b'} 3 3\n",
      "{'b'} 1 3\n",
      "{'c', 'b'} 2 3\n",
      "{'c', 'a', 'b'} 3 3\n",
      "{'c'} 1 3\n",
      "{'c', 'a'} 2 3\n",
      "{'c', 'a', 'b'} 3 3\n",
      "{'a'} 1 3\n",
      "{'a', 'b'} 2 3\n",
      "{'c', 'a', 'b'} 3 3\n",
      "{'b'} 1 3\n",
      "{'c', 'b'} 2 3\n",
      "{'c'} 1 3\n",
      "{'c', 'b'} 2 3\n",
      "{'b'} 1 3\n",
      "{'b'} 1 3\n"
     ]
    },
    {
     "data": {
      "text/plain": [
       "{'a', 'b', 'c'}"
      ]
     },
     "execution_count": 53,
     "metadata": {},
     "output_type": "execute_result"
    }
   ],
   "source": [
    "find_longest_substring_norepeat(['a','b','c','a','b','c','b','b'])"
   ]
  },
  {
   "cell_type": "code",
   "execution_count": 54,
   "id": "a8b6ca26-3cb7-43df-bb12-564c185bda81",
   "metadata": {},
   "outputs": [
    {
     "name": "stdout",
     "output_type": "stream",
     "text": [
      "{'b'} 1 0\n",
      "{'b'} 1 1\n",
      "{'b'} 1 1\n",
      "{'b'} 1 1\n",
      "{'b'} 1 1\n"
     ]
    },
    {
     "data": {
      "text/plain": [
       "{'b'}"
      ]
     },
     "execution_count": 54,
     "metadata": {},
     "output_type": "execute_result"
    }
   ],
   "source": [
    "find_longest_substring_norepeat(\"bbbbb\")"
   ]
  },
  {
   "cell_type": "code",
   "execution_count": 55,
   "id": "af19752d-bdb4-42da-8538-93d4b3141ac3",
   "metadata": {},
   "outputs": [
    {
     "name": "stdout",
     "output_type": "stream",
     "text": [
      "{'p'} 1 0\n",
      "{'w', 'p'} 2 2\n",
      "{'w'} 1 2\n",
      "{'w'} 1 2\n",
      "{'w', 'k'} 2 2\n",
      "{'e', 'w', 'k'} 3 2\n",
      "{'k'} 1 3\n",
      "{'e', 'k'} 2 3\n",
      "{'e', 'w', 'k'} 3 3\n",
      "{'e'} 1 3\n",
      "{'e', 'w'} 2 3\n",
      "{'w'} 1 3\n"
     ]
    },
    {
     "data": {
      "text/plain": [
       "{'e', 'k', 'w'}"
      ]
     },
     "execution_count": 55,
     "metadata": {},
     "output_type": "execute_result"
    }
   ],
   "source": [
    "find_longest_substring_norepeat(\"pwwkew\")"
   ]
  }
 ],
 "metadata": {
  "kernelspec": {
   "display_name": "Python 3 (ipykernel)",
   "language": "python",
   "name": "python3"
  },
  "language_info": {
   "codemirror_mode": {
    "name": "ipython",
    "version": 3
   },
   "file_extension": ".py",
   "mimetype": "text/x-python",
   "name": "python",
   "nbconvert_exporter": "python",
   "pygments_lexer": "ipython3",
   "version": "3.9.19"
  }
 },
 "nbformat": 4,
 "nbformat_minor": 5
}
