{
 "cells": [
  {
   "cell_type": "markdown",
   "id": "a0932a4f-fffb-40d4-9a51-91db0b66096d",
   "metadata": {},
   "source": [
    "Given an integer array nums, rotate the array to the right by k steps, where k is non-negative.\n",
    "\n",
    " \n",
    "\n",
    "Example 1:\n",
    "\n",
    "Input: nums = [1,2,3,4,5,6,7], k = 3\n",
    "Output: [5,6,7,1,2,3,4]\n",
    "Explanation:\n",
    "rotate 1 steps to the right: [7,1,2,3,4,5,6]\n",
    "rotate 2 steps to the right: [6,7,1,2,3,4,5]\n",
    "rotate 3 steps to the right: [5,6,7,1,2,3,4]\n",
    "\n",
    "Example 2:\n",
    "\n",
    "Input: nums = [-1,-100,3,99], k = 2\n",
    "Output: [3,99,-1,-100]\n",
    "Explanation: \n",
    "rotate 1 steps to the right: [99,-1,-100,3]\n",
    "rotate 2 steps to the right: [3,99,-1,-100]\n"
   ]
  },
  {
   "cell_type": "code",
   "execution_count": 32,
   "id": "4f37c77c-107b-46df-9d9a-467712c10380",
   "metadata": {},
   "outputs": [],
   "source": [
    "def rotate(nums, k) -> None:\n",
    "    k = k % len(nums)\n",
    "    print(k)\n",
    "    nums = nums[::-1] # Time O(n), Space O(1)\n",
    "    nums[:k] = nums[:k][::-1]\n",
    "    nums[k:] = nums[k:][::-1]\n",
    "    return nums"
   ]
  },
  {
   "cell_type": "code",
   "execution_count": 33,
   "id": "efce0b7b-8278-4f4e-85b8-8e7e8152e38f",
   "metadata": {},
   "outputs": [
    {
     "name": "stdout",
     "output_type": "stream",
     "text": [
      "3\n",
      "[5, 6, 7, 1, 2, 3, 4]\n"
     ]
    }
   ],
   "source": [
    "output = rotate([1,2,3,4,5,6,7], k=3)\n",
    "print(output)\n",
    "assert output == [5,6,7,1,2,3,4]"
   ]
  },
  {
   "cell_type": "code",
   "execution_count": 35,
   "id": "c08d99aa-d0c1-43a5-b5a2-9b6f095d2ce5",
   "metadata": {},
   "outputs": [
    {
     "name": "stdout",
     "output_type": "stream",
     "text": [
      "2\n",
      "[3, 99, -1, -100]\n"
     ]
    }
   ],
   "source": [
    "output = rotate([-1,-100,3,99], k=2)\n",
    "print(output)\n",
    "assert output == [3,99,-1,-100]"
   ]
  },
  {
   "cell_type": "code",
   "execution_count": 38,
   "id": "d126cdaf-a4df-4c23-a925-03d93f8f095b",
   "metadata": {},
   "outputs": [
    {
     "name": "stdout",
     "output_type": "stream",
     "text": [
      "1\n",
      "[99, -1, -100, 3]\n"
     ]
    }
   ],
   "source": [
    "output = rotate([-1,-100,3,99], k=5)\n",
    "print(output)"
   ]
  }
 ],
 "metadata": {
  "kernelspec": {
   "display_name": "Python 3 (ipykernel)",
   "language": "python",
   "name": "python3"
  },
  "language_info": {
   "codemirror_mode": {
    "name": "ipython",
    "version": 3
   },
   "file_extension": ".py",
   "mimetype": "text/x-python",
   "name": "python",
   "nbconvert_exporter": "python",
   "pygments_lexer": "ipython3",
   "version": "3.12.9"
  }
 },
 "nbformat": 4,
 "nbformat_minor": 5
}
