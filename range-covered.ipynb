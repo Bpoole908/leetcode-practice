{
 "cells": [
  {
   "cell_type": "markdown",
   "id": "18586c67-a6a5-466b-9062-e466f94faa42",
   "metadata": {},
   "source": [
    "You are given a 2D integer array ranges and two integers left and right. Each ranges[i] = [starti, endi] represents an inclusive interval between starti and endi.\n",
    "\n",
    "Return true if each integer in the inclusive range [left, right] is covered by at least one interval in ranges. Return false otherwise.\n",
    "\n",
    "An integer x is covered by an interval ranges[i] = [starti, endi] if starti <= x <= endi.\n",
    "\n",
    "Input: ranges = [[1,2],[3,4],[5,6]], left = 2, right = 5\n",
    "Output: true\n",
    "Explanation: Every integer between 2 and 5 is covered:\n",
    "- 2 is covered by the first range.\n",
    "- 3 and 4 are covered by the second range.\n",
    "- 5 is covered by the third range."
   ]
  },
  {
   "cell_type": "code",
   "execution_count": 32,
   "id": "0060df33-6107-4f69-b4f3-e0bc8174ea0a",
   "metadata": {},
   "outputs": [],
   "source": [
    " def is_covered(ranges, left, right):\n",
    "     \"\"\" O(nlogn) time, space O(1) \"\"\"\n",
    "    ranges.sort()\n",
    "    for start, end in ranges:\n",
    "\n",
    "        if end < left: continue # skip all intervals < left\n",
    "        if start > left: return False # Default break case where we know we cant find the left digit\n",
    "        if end >= right: return True # End case for finding the last needed digit(s)\n",
    "        \n",
    "        left = end + 1 # What we need to find still or everything up to what we have found\n",
    "        print(start, end, left)\n",
    "    return False"
   ]
  },
  {
   "cell_type": "code",
   "execution_count": 33,
   "id": "3ea1093c-6a71-4e6d-bc25-f2274c2eacd1",
   "metadata": {},
   "outputs": [
    {
     "name": "stdout",
     "output_type": "stream",
     "text": [
      "1 2 3\n",
      "3 4 5\n"
     ]
    }
   ],
   "source": [
    "ranges = [[1,2],[3,4],[5,6]]\n",
    "output = is_covered(ranges, left=2, right=5)\n",
    "assert output"
   ]
  },
  {
   "cell_type": "code",
   "execution_count": 34,
   "id": "28756e05-c882-407e-bcc1-ae7931699094",
   "metadata": {},
   "outputs": [
    {
     "name": "stdout",
     "output_type": "stream",
     "text": [
      "1 2 3\n",
      "3 4 5\n",
      "True\n"
     ]
    }
   ],
   "source": [
    "ranges = [[1,2], [3,4], [5,6], [10,15]]\n",
    "output = is_covered(ranges, left=2, right=6)\n",
    "print(output)"
   ]
  }
 ],
 "metadata": {
  "kernelspec": {
   "display_name": "Python 3 (ipykernel)",
   "language": "python",
   "name": "python3"
  },
  "language_info": {
   "codemirror_mode": {
    "name": "ipython",
    "version": 3
   },
   "file_extension": ".py",
   "mimetype": "text/x-python",
   "name": "python",
   "nbconvert_exporter": "python",
   "pygments_lexer": "ipython3",
   "version": "3.9.19"
  }
 },
 "nbformat": 4,
 "nbformat_minor": 5
}
