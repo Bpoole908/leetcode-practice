{
 "cells": [
  {
   "cell_type": "markdown",
   "id": "8054ef88-a23c-44e9-9e4f-65af56023695",
   "metadata": {},
   "source": [
    "# Binary Search\n",
    "\n",
    "**O(logn) time, O(1) space**"
   ]
  },
  {
   "cell_type": "code",
   "execution_count": 9,
   "id": "be8181ee-2553-416d-b462-6abc0a680d0d",
   "metadata": {},
   "outputs": [],
   "source": [
    "def binary_search(nums, target):\n",
    "    # Time O(logn), space O(1)\n",
    "    min_idx = 0\n",
    "    max_idx = len(nums) - 1\n",
    "    \n",
    "    while min_idx <= max_idx:\n",
    "        # Adding could overflow with large numbers, min + ((max - min) // 2)\n",
    "        mid_idx = min_idx + (max_idx-min_idx) // 2\n",
    "        print(min_idx, max_idx, mid_idx, nums[mid_idx])\n",
    "        if nums[mid_idx] < target:\n",
    "            min_idx += 1\n",
    "        elif nums[mid_idx] > target:\n",
    "            max_idx -= 1\n",
    "        else:\n",
    "            return mid_idx\n",
    "    return -1"
   ]
  },
  {
   "cell_type": "code",
   "execution_count": 10,
   "id": "b3ae24b3-34cf-441f-aa56-b14a5ceaacaa",
   "metadata": {
    "scrolled": true
   },
   "outputs": [
    {
     "name": "stdout",
     "output_type": "stream",
     "text": [
      "0 5 2 3\n",
      "1 5 3 5\n",
      "2 5 3 5\n",
      "3 5 4 9\n",
      "4\n"
     ]
    }
   ],
   "source": [
    "found = binary_search([-1, 0, 3, 5, 9, 12], target=9)\n",
    "print(found)\n",
    "assert found == 4"
   ]
  },
  {
   "cell_type": "code",
   "execution_count": 11,
   "id": "3a343896-83aa-4dc9-b7d9-d3aea0db3557",
   "metadata": {
    "scrolled": true
   },
   "outputs": [
    {
     "name": "stdout",
     "output_type": "stream",
     "text": [
      "0 5 2 3\n",
      "1 5 3 5\n",
      "2 5 3 5\n",
      "3 5 4 9\n",
      "4 5 4 9\n",
      "5 5 5 12\n",
      "-1\n"
     ]
    }
   ],
   "source": [
    "found = binary_search([-1, 0, 3, 5, 9, 12], target=13)\n",
    "print(found)\n",
    "assert found == -1"
   ]
  },
  {
   "cell_type": "code",
   "execution_count": 12,
   "id": "ee948e89-d77a-4ec1-862d-575dc74ef3c0",
   "metadata": {},
   "outputs": [
    {
     "name": "stdout",
     "output_type": "stream",
     "text": [
      "0 5 2 3\n",
      "0 4 2 3\n",
      "0 3 1 0\n",
      "1 3 2 3\n",
      "1 2 1 0\n",
      "2 2 2 3\n",
      "-1\n"
     ]
    }
   ],
   "source": [
    "found = binary_search([-1, 0, 3, 5, 9, 12], target=2)\n",
    "print(found)\n",
    "assert found == -1"
   ]
  },
  {
   "cell_type": "code",
   "execution_count": null,
   "id": "5ccee2a1-c270-4a8b-9a0e-16cdea54cc5f",
   "metadata": {},
   "outputs": [],
   "source": []
  }
 ],
 "metadata": {
  "kernelspec": {
   "display_name": "Python 3 (ipykernel)",
   "language": "python",
   "name": "python3"
  },
  "language_info": {
   "codemirror_mode": {
    "name": "ipython",
    "version": 3
   },
   "file_extension": ".py",
   "mimetype": "text/x-python",
   "name": "python",
   "nbconvert_exporter": "python",
   "pygments_lexer": "ipython3",
   "version": "3.9.19"
  }
 },
 "nbformat": 4,
 "nbformat_minor": 5
}
