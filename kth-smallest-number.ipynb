{
 "cells": [
  {
   "cell_type": "markdown",
   "id": "0687ce67-d298-4f47-ad2b-a290f40b4933",
   "metadata": {},
   "source": [
    "# Kth Smallest Number\n",
    "\n",
    "**Time O(nlogk), Space O(k)**"
   ]
  },
  {
   "cell_type": "code",
   "execution_count": 12,
   "id": "d62f5a3e-c607-4eaf-aec7-e5fa1dfb034c",
   "metadata": {},
   "outputs": [],
   "source": [
    "import heapq\n",
    "def kth_laregest(nums, kth):\n",
    "    min_heap = []\n",
    "    for x in nums: # O(n)\n",
    "        heapq.heappush(min_heap, x) # O(logk)\n",
    "        # Pop the smallest off\n",
    "        if len(min_heap) > kth:\n",
    "            heapq.heappop(min_heap)\n",
    "            \n",
    "    return heapq.heappop(min_heap)"
   ]
  },
  {
   "cell_type": "code",
   "execution_count": 13,
   "id": "e136bf80-8cfd-44be-85aa-4cbbe340ca78",
   "metadata": {},
   "outputs": [
    {
     "name": "stdout",
     "output_type": "stream",
     "text": [
      "4\n"
     ]
    }
   ],
   "source": [
    "output = kth_laregest([3,5,3,4,2,1,6,7], 4)\n",
    "print(output)\n",
    "assert output == 4"
   ]
  },
  {
   "cell_type": "code",
   "execution_count": 16,
   "id": "513354bf-ec4c-458f-9d71-1316c5602caa",
   "metadata": {},
   "outputs": [],
   "source": [
    "import heapq\n",
    "def kth_smallest(nums, kth):\n",
    "    max_heap = []\n",
    "    for x in nums: # O(n)\n",
    "        heapq.heappush(max_heap, -x) # O(logk)\n",
    "        # Pop the largest off as we do not want it\n",
    "        if len(max_heap) > kth:\n",
    "            heapq.heappop(max_heap)\n",
    "            \n",
    "    return -heapq.heappop(max_heap)"
   ]
  },
  {
   "cell_type": "code",
   "execution_count": 18,
   "id": "e0624aaf-0278-49bc-81ed-02041e4bb490",
   "metadata": {},
   "outputs": [
    {
     "name": "stdout",
     "output_type": "stream",
     "text": [
      "3\n"
     ]
    }
   ],
   "source": [
    "output = kth_smallest([3,5,3,4,2,1,6,7], 4)\n",
    "print(output)\n",
    "assert output == 3"
   ]
  }
 ],
 "metadata": {
  "kernelspec": {
   "display_name": "Python 3 (ipykernel)",
   "language": "python",
   "name": "python3"
  },
  "language_info": {
   "codemirror_mode": {
    "name": "ipython",
    "version": 3
   },
   "file_extension": ".py",
   "mimetype": "text/x-python",
   "name": "python",
   "nbconvert_exporter": "python",
   "pygments_lexer": "ipython3",
   "version": "3.12.9"
  }
 },
 "nbformat": 4,
 "nbformat_minor": 5
}
