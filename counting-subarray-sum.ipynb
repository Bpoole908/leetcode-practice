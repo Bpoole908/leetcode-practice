{
 "cells": [
  {
   "cell_type": "markdown",
   "id": "9c8bc415-062f-4400-84fd-2dd2c3ff2742",
   "metadata": {},
   "source": [
    "# Counting SubArrays that Sum to N\n",
    "\n",
    "**Optimal Solution: O(n) time, O(1) space**. Use prefix array to track previous sums. If current prefix sum minus target sum is in prefix then add to count.\n",
    "\n",
    "\n",
    "Hard to track actual subarrays using optimal method."
   ]
  },
  {
   "cell_type": "code",
   "execution_count": 1,
   "id": "506b1e15-955e-430f-b507-ee6c7585deca",
   "metadata": {},
   "outputs": [],
   "source": [
    "def sub_array_sum(nums, target_sum):\n",
    "    count = 0\n",
    "    prefix_sum = 0\n",
    "    prefix = {}\n",
    "    for i, n in enumerate(nums):\n",
    "        prefix_sum += n\n",
    "        # Checking value up to this point\n",
    "        if prefix_sum == target_sum:\n",
    "            count += 1\n",
    "        # By subtracting the target sum and seeing if that sum exists, that means\n",
    "        # the subarray equals target sum\n",
    "        target = prefix_sum - target_sum \n",
    "        if target in prefix:\n",
    "            count += prefix[target]\n",
    "        prefix[prefix_sum] = prefix.get(prefix_sum, 0) + 1\n",
    "        print(prefix, target, prefix_sum, count)\n",
    "    return count, sum_list"
   ]
  },
  {
   "cell_type": "code",
   "execution_count": 3,
   "id": "ce9ac218-4fed-41e7-a0fc-bd2ea4fb0675",
   "metadata": {},
   "outputs": [
    {
     "name": "stdout",
     "output_type": "stream",
     "text": [
      "{1: 1} -1 1 0\n",
      "{1: 2} -1 1 0\n",
      "{1: 2, 2: 1} 0 2 1\n",
      "{1: 2, 2: 1, 3: 1} 1 3 3\n",
      "{1: 2, 2: 1, 3: 2} 1 3 5\n",
      "(5, [[1, 0, 1]])\n",
      "{1: 1} 0 1 1\n",
      "{1: 2} 0 1 2\n",
      "{1: 3} 0 1 3\n",
      "(3, [[1], [1, 0], [1, 0, 0]])\n",
      "{4: 1} -1 4 0\n",
      "{4: 1, 5: 1} 0 5 1\n",
      "{4: 1, 5: 1, 11: 1} 6 11 1\n",
      "{4: 1, 5: 1, 11: 1, 16: 1} 11 16 2\n",
      "{4: 1, 5: 1, 11: 1, 16: 1, 17: 1} 12 17 2\n",
      "{4: 1, 5: 1, 11: 1, 16: 2, 17: 1} 11 16 3\n",
      "{4: 1, 5: 1, 11: 1, 16: 2, 17: 2} 12 17 3\n",
      "{4: 1, 5: 1, 11: 1, 16: 3, 17: 2} 11 16 4\n",
      "{4: 1, 5: 1, 11: 1, 16: 3, 17: 2, 21: 1} 16 21 7\n",
      "(7, [[4, 1]])\n"
     ]
    }
   ],
   "source": [
    "\n",
    "output = sub_array_sum(nums=[1,0,1,1,0], target_sum=2)\n",
    "print(output)\n",
    "assert output[0] == 5\n",
    "\n",
    "output = sub_array_sum(nums=[1,0,0], target_sum=1)\n",
    "print(output)\n",
    "assert output[0] == 3\n",
    "\n",
    "output = sub_array_sum(nums=[4, 1, 6, 5, 1, -1, 1, -1, 5], target_sum=5)\n",
    "print(output)"
   ]
  },
  {
   "cell_type": "code",
   "execution_count": null,
   "id": "dab262a6-697b-4586-b03c-aeba5bbd4b03",
   "metadata": {},
   "outputs": [],
   "source": []
  }
 ],
 "metadata": {
  "kernelspec": {
   "display_name": "Python 3 (ipykernel)",
   "language": "python",
   "name": "python3"
  },
  "language_info": {
   "codemirror_mode": {
    "name": "ipython",
    "version": 3
   },
   "file_extension": ".py",
   "mimetype": "text/x-python",
   "name": "python",
   "nbconvert_exporter": "python",
   "pygments_lexer": "ipython3",
   "version": "3.12.9"
  }
 },
 "nbformat": 4,
 "nbformat_minor": 5
}
