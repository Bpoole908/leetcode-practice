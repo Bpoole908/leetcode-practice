{
 "cells": [
  {
   "cell_type": "markdown",
   "id": "6ba8fb4c-0857-4c5c-a39d-8b549e43e237",
   "metadata": {},
   "source": [
    "# Build BTS"
   ]
  },
  {
   "cell_type": "code",
   "execution_count": 29,
   "id": "dcfbbc0b-a881-4028-9abc-1136b54bafce",
   "metadata": {},
   "outputs": [],
   "source": [
    "class Node:\n",
    "    def __init__(self, value=None):\n",
    "        self.value = value\n",
    "        self.left = None\n",
    "        self.right = None\n",
    "\n",
    "class BTS:\n",
    "    def __init__(self, root):\n",
    "        self.root = Node(value=root)\n",
    "\n",
    "    def insert(self, value):\n",
    "        self._insert(self.root, value)\n",
    "    \n",
    "    def _insert(self, node, value):\n",
    "        if value < node.value:\n",
    "            if node.left:\n",
    "                self._insert(node.left, value)\n",
    "            else:\n",
    "                node.left = Node(value)\n",
    "        else:\n",
    "            if node.right:\n",
    "                self._insert(node.right, value)\n",
    "            else:\n",
    "                node.right = Node(value)\n",
    "                \n",
    "    def preorder(self,):\n",
    "        self._preorder(self.root)\n",
    "        \n",
    "    def _preorder(self, node):\n",
    "        if node:\n",
    "            \n",
    "            self._preorder(node.left)\n",
    "            self._preorder(node.right)\n",
    "            print(node.value)"
   ]
  },
  {
   "cell_type": "code",
   "execution_count": 30,
   "id": "051021a7-7a56-4b48-8cb1-0c38ba2340d4",
   "metadata": {},
   "outputs": [
    {
     "name": "stdout",
     "output_type": "stream",
     "text": [
      "4\n",
      "6\n",
      "11\n",
      "10\n",
      "5\n",
      "None\n"
     ]
    }
   ],
   "source": [
    "values = [5, 4, 10, 11, 6]\n",
    "bts = BTS(values[0])\n",
    "for value in values[1:]:\n",
    "    bts.insert(value)\n",
    "print(bts.preorder())"
   ]
  },
  {
   "cell_type": "markdown",
   "id": "a718d148-9949-40cb-bca8-dc4fcadd141d",
   "metadata": {},
   "source": [
    "# Binary Tree Level Order Traversal"
   ]
  },
  {
   "cell_type": "code",
   "execution_count": 1,
   "id": "42c0c023-61f9-4368-b591-a76f55e9bc6a",
   "metadata": {},
   "outputs": [],
   "source": [
    "from collections import defaultdict, deque\n",
    "def bfs(tree):\n",
    "    q = deque()\n",
    "    q.append((tree[0], 0))\n",
    "    res = []\n",
    "    # time O(V + E), space O(V) \n",
    "    while len(q) != 0:\n",
    "        level = []\n",
    "        # Level is determined by queue size\n",
    "        for i in range(len(q)):\n",
    "            node, i = q.popleft()\n",
    "       \n",
    "            if node:\n",
    "                level.append(node)\n",
    "                left_idx = 2*i+1\n",
    "                right_idx = 2*i+2\n",
    "                if left_idx < len(tree):\n",
    "                    q.append((tree[left_idx], left_idx))\n",
    "                if right_idx < len(tree) :\n",
    "                    q.append((tree[right_idx], right_idx))\n",
    "        res.append(level)\n",
    "    return res"
   ]
  },
  {
   "cell_type": "code",
   "execution_count": 2,
   "id": "b1001afa-e540-428d-8626-5d55279f9cf7",
   "metadata": {},
   "outputs": [
    {
     "data": {
      "text/plain": [
       "[[3], [9, 20], [15, 7]]"
      ]
     },
     "execution_count": 2,
     "metadata": {},
     "output_type": "execute_result"
    }
   ],
   "source": [
    "tree = [3,9,20,None,None,15,7]\n",
    "\n",
    "bfs(tree)"
   ]
  },
  {
   "cell_type": "code",
   "execution_count": 3,
   "id": "a3c6b3ad-832b-4295-8ea3-76ec7663a38f",
   "metadata": {},
   "outputs": [
    {
     "data": {
      "text/plain": [
       "[[3], [9, 20], [6, 2, 15, 7]]"
      ]
     },
     "execution_count": 3,
     "metadata": {},
     "output_type": "execute_result"
    }
   ],
   "source": [
    "tree = [3,9,20,6,2,15,7]\n",
    "\n",
    "bfs(tree)"
   ]
  },
  {
   "cell_type": "code",
   "execution_count": 89,
   "id": "0a5880df-0c73-4e6b-b022-8322976eef5b",
   "metadata": {},
   "outputs": [],
   "source": [
    "def dfs(tree, i=0):\n",
    "    # time O(V + E), space O(V) \n",
    "    valid_left, valid_right = True, True\n",
    "    node = tree[i]\n",
    "\n",
    "    if node:\n",
    "        left_idx = 2*i+1\n",
    "        right_idx = 2*i+2\n",
    "        if left_idx < len(tree):\n",
    "            if tree[left_idx] and tree[left_idx] > node:\n",
    "                print(node, tree[left_idx])\n",
    "                return False\n",
    "            valid_left = dfs(tree, left_idx)\n",
    "        if right_idx < len(tree) and valid_left:\n",
    "            if tree[right_idx] and tree[right_idx] < node:\n",
    "                print(node, tree[right_idx])\n",
    "                return False\n",
    "            valid_right = dfs(tree, right_idx)\n",
    "    return valid_left and valid_right"
   ]
  },
  {
   "cell_type": "code",
   "execution_count": 90,
   "id": "55d2da37-4212-4d93-adf6-41d55e0660d5",
   "metadata": {},
   "outputs": [
    {
     "data": {
      "text/plain": [
       "True"
      ]
     },
     "execution_count": 90,
     "metadata": {},
     "output_type": "execute_result"
    }
   ],
   "source": [
    "tree = [2,1,3,None,None,None,5,4,6]\n",
    "\n",
    "dfs(tree)"
   ]
  },
  {
   "cell_type": "code",
   "execution_count": 91,
   "id": "c97034c4-691b-48a5-b41b-401286e7a402",
   "metadata": {},
   "outputs": [
    {
     "name": "stdout",
     "output_type": "stream",
     "text": [
      "3 9\n"
     ]
    },
    {
     "data": {
      "text/plain": [
       "False"
      ]
     },
     "execution_count": 91,
     "metadata": {},
     "output_type": "execute_result"
    }
   ],
   "source": [
    "tree = [3,9,20,None,None,15,7]\n",
    "\n",
    "dfs(tree)"
   ]
  },
  {
   "cell_type": "code",
   "execution_count": 92,
   "id": "8484a9b2-4138-4ff6-a02a-51cf89fa564f",
   "metadata": {},
   "outputs": [
    {
     "name": "stdout",
     "output_type": "stream",
     "text": [
      "2 5\n"
     ]
    },
    {
     "data": {
      "text/plain": [
       "False"
      ]
     },
     "execution_count": 92,
     "metadata": {},
     "output_type": "execute_result"
    }
   ],
   "source": [
    "tree = [3,2,20,5,1,21,25]\n",
    "\n",
    "dfs(tree)"
   ]
  },
  {
   "cell_type": "code",
   "execution_count": 73,
   "id": "10cf5db3-0f8f-4d21-8f7c-a6506732cfd9",
   "metadata": {},
   "outputs": [],
   "source": [
    "def inorder_traversal(tree, res=None, i=0):\n",
    "    node = tree[i]\n",
    "    if not node:\n",
    "        return\n",
    "    \n",
    "    left_idx = 2*i+1\n",
    "    right_idx = 2*i+2\n",
    "    if left_idx < len(tree):\n",
    "        inorder_traversal(tree, res, left_idx)\n",
    "    res.append(node)\n",
    "    if right_idx < len(tree): \n",
    "        inorder_traversal(tree, res, right_idx)\n",
    "  \n",
    "    "
   ]
  },
  {
   "cell_type": "code",
   "execution_count": 74,
   "id": "9374e08e-3698-4170-bfdf-40346ba3c310",
   "metadata": {},
   "outputs": [
    {
     "name": "stdout",
     "output_type": "stream",
     "text": [
      "[1, 2, 3, 4, 5, 6, 7]\n"
     ]
    }
   ],
   "source": [
    "tree = [4,2,6,1,3,5,7]\n",
    "\n",
    "result = []\n",
    "inorder_traversal(tree, res=result)\n",
    "print(result)"
   ]
  },
  {
   "cell_type": "code",
   "execution_count": 75,
   "id": "e334f07f-5243-4239-bb3a-5845c3060e23",
   "metadata": {},
   "outputs": [],
   "source": [
    "def postorder_traversal(tree, res=None, i=0):\n",
    "    \"\"\" left to right, bottom to top (root last) \"\"\"\n",
    "    node = tree[i]\n",
    "    if not node:\n",
    "        return\n",
    "    \n",
    "    left_idx = 2*i+1\n",
    "    right_idx = 2*i+2\n",
    "    if left_idx < len(tree):\n",
    "        postorder_traversal(tree, res, left_idx)\n",
    "        postorder_traversal(tree, res, right_idx)\n",
    "    res.append(node)"
   ]
  },
  {
   "cell_type": "code",
   "execution_count": 76,
   "id": "b45902bf-0940-4b0a-b111-a501d68210ac",
   "metadata": {},
   "outputs": [
    {
     "name": "stdout",
     "output_type": "stream",
     "text": [
      "[1, 3, 2, 5, 7, 6, 4]\n"
     ]
    }
   ],
   "source": [
    "tree = [4,2,6,1,3,5,7]\n",
    "\n",
    "result = []\n",
    "postorder_traversal(tree, res=result)\n",
    "print(result)"
   ]
  },
  {
   "cell_type": "code",
   "execution_count": 77,
   "id": "506b78ef-4c5f-4462-9d5f-da9356dd0780",
   "metadata": {},
   "outputs": [],
   "source": [
    "def preorder_traversal(tree, res=None, i=0):\n",
    "    node = tree[i]\n",
    "    if not node:\n",
    "        return\n",
    "    res.append(node)\n",
    "    left_idx = 2*i+1\n",
    "    right_idx = 2*i+2\n",
    "    if left_idx < len(tree):\n",
    "        preorder_traversal(tree, res, left_idx)\n",
    "        preorder_traversal(tree, res, right_idx)\n",
    "    "
   ]
  },
  {
   "cell_type": "code",
   "execution_count": 79,
   "id": "679acf0f-5fdd-4164-86ce-2c0bc9a741d4",
   "metadata": {},
   "outputs": [
    {
     "name": "stdout",
     "output_type": "stream",
     "text": [
      "[4, 2, 1, 3, 6, 5, 7]\n"
     ]
    }
   ],
   "source": [
    "tree = [4,2,6,1,3,5,7]\n",
    "\n",
    "result = []\n",
    "preorder_traversal(tree, res=result)\n",
    "print(result)"
   ]
  }
 ],
 "metadata": {
  "kernelspec": {
   "display_name": "Python 3 (ipykernel)",
   "language": "python",
   "name": "python3"
  },
  "language_info": {
   "codemirror_mode": {
    "name": "ipython",
    "version": 3
   },
   "file_extension": ".py",
   "mimetype": "text/x-python",
   "name": "python",
   "nbconvert_exporter": "python",
   "pygments_lexer": "ipython3",
   "version": "3.12.9"
  }
 },
 "nbformat": 4,
 "nbformat_minor": 5
}
