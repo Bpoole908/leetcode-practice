{
 "cells": [
  {
   "cell_type": "code",
   "execution_count": 1,
   "id": "5325befa-1bd6-49c7-bfa3-b82301f8164e",
   "metadata": {},
   "outputs": [],
   "source": [
    "def count_palindrome(s: str):\n",
    "    result = 0 \n",
    "    substr = []\n",
    "    # Time O(n), space O(k) where is k is the number of substrings(?)\n",
    "    for pos in range(0 , len(s)):\n",
    "        print(f\"====POS {pos}====\")\n",
    "        l,r = pos, pos\n",
    "        while(l >= 0 and r < len(s) and s[l] == s[r]):\n",
    "            print(\"Odd\", s[l], s[r], l , r)\n",
    "            result += 1\n",
    "            substr.append(s[l:r+1])\n",
    "            l-=1\n",
    "            r+=1\n",
    "        l,r = pos, pos+1\n",
    "        while(l >= 0 and r < len(s) and s[l] == s[r]):\n",
    "            print(\"Even\", s[l], s[r], l ,r)\n",
    "            result+=1\n",
    "            substr.append(s[l:r+1])\n",
    "            l-=1\n",
    "            r+=1\n",
    "    return result, substr\n"
   ]
  },
  {
   "cell_type": "code",
   "execution_count": 6,
   "id": "c1a62e3d-0843-4251-be4a-f49310f268b6",
   "metadata": {},
   "outputs": [
    {
     "name": "stdout",
     "output_type": "stream",
     "text": [
      "====POS 0====\n",
      "Odd a a 0 0\n",
      "====POS 1====\n",
      "Odd b b 1 1\n",
      "====POS 2====\n",
      "Odd c c 2 2\n",
      "Even c c 2 3\n",
      "Even b b 1 4\n",
      "====POS 3====\n",
      "Odd c c 3 3\n",
      "====POS 4====\n",
      "Odd b b 4 4\n",
      "====POS 5====\n",
      "Odd d d 5 5\n",
      "====POS 6====\n",
      "Odd a a 6 6\n",
      "9 ['a', 'b', 'c', 'cc', 'bccb', 'c', 'b', 'd', 'a']\n"
     ]
    }
   ],
   "source": [
    "res, sub = count_palindrome(\"abccbda\")\n",
    "print(res, sub)"
   ]
  }
 ],
 "metadata": {
  "kernelspec": {
   "display_name": "Python 3 (ipykernel)",
   "language": "python",
   "name": "python3"
  },
  "language_info": {
   "codemirror_mode": {
    "name": "ipython",
    "version": 3
   },
   "file_extension": ".py",
   "mimetype": "text/x-python",
   "name": "python",
   "nbconvert_exporter": "python",
   "pygments_lexer": "ipython3",
   "version": "3.9.19"
  }
 },
 "nbformat": 4,
 "nbformat_minor": 5
}
