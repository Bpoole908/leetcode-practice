{
 "cells": [
  {
   "cell_type": "markdown",
   "id": "8553e419-9aa5-432f-8cf8-a3285545ce28",
   "metadata": {},
   "source": [
    "# Linked List Cycle\n",
    "\n",
    "**Time O(n), space O(1)**"
   ]
  },
  {
   "cell_type": "code",
   "execution_count": 2,
   "id": "afe10341-c4af-4f6c-9c07-1be24d3f7fce",
   "metadata": {},
   "outputs": [],
   "source": [
    "class LinkedNode:\n",
    "    def __init__(self, x, next=None):\n",
    "        self.val = x\n",
    "        self.next = next"
   ]
  },
  {
   "cell_type": "code",
   "execution_count": 14,
   "id": "70bc029e-9dbe-4440-babf-6f759559cdfb",
   "metadata": {},
   "outputs": [],
   "source": [
    "def linked_list_hascycle(head):\n",
    "    slow, fast = head, head\n",
    "    # Time O(n), space O(1)\n",
    "    while fast is not None and fast.next is not None:\n",
    "        slow = slow.next\n",
    "        fast = fast.next.next\n",
    "        if slow == fast:\n",
    "            return True\n",
    "\n",
    "    return False"
   ]
  },
  {
   "cell_type": "code",
   "execution_count": 18,
   "id": "93e44199-6e12-4d31-98fa-82b795027e2d",
   "metadata": {},
   "outputs": [],
   "source": [
    "node1 = LinkedNode(3) \n",
    "node2 = LinkedNode(2)\n",
    "node3 = LinkedNode(0)\n",
    "node4 = LinkedNode(-4)\n",
    "\n",
    "node1.next = node2\n",
    "node2.next = node3\n",
    "node3.next = node4\n",
    "\n",
    "output = linked_list_hascycle(node1)\n",
    "assert output == False"
   ]
  },
  {
   "cell_type": "code",
   "execution_count": 19,
   "id": "30f7975f-b691-464d-ae3f-c7f6e5a10ede",
   "metadata": {},
   "outputs": [],
   "source": [
    "node1 = LinkedNode(3) \n",
    "node2 = LinkedNode(2)\n",
    "\n",
    "node1.next = node2\n",
    "node2.next = node1\n",
    "\n",
    "output = linked_list_hascycle(node1)\n",
    "assert output == True"
   ]
  },
  {
   "cell_type": "code",
   "execution_count": 21,
   "id": "75b7aa8f-d438-4a9e-bf04-acd192d211a4",
   "metadata": {},
   "outputs": [],
   "source": [
    "node1 = LinkedNode(3) \n",
    "\n",
    "output = linked_list_hascycle(node1)\n",
    "assert output == False"
   ]
  },
  {
   "cell_type": "code",
   "execution_count": 17,
   "id": "403570be-9579-4215-955e-e3236c0027b2",
   "metadata": {},
   "outputs": [],
   "source": [
    "node1 = LinkedNode(3) \n",
    "node2 = LinkedNode(2)\n",
    "node3 = LinkedNode(0)\n",
    "node4 = LinkedNode(-4)\n",
    "\n",
    "node1.next = node2\n",
    "node2.next = node3\n",
    "node3.next = node4\n",
    "node4.next = node2\n",
    "\n",
    "output = linked_list_hascycle(node1)\n",
    "assert output == True"
   ]
  }
 ],
 "metadata": {
  "kernelspec": {
   "display_name": "Python 3 (ipykernel)",
   "language": "python",
   "name": "python3"
  },
  "language_info": {
   "codemirror_mode": {
    "name": "ipython",
    "version": 3
   },
   "file_extension": ".py",
   "mimetype": "text/x-python",
   "name": "python",
   "nbconvert_exporter": "python",
   "pygments_lexer": "ipython3",
   "version": "3.12.9"
  }
 },
 "nbformat": 4,
 "nbformat_minor": 5
}
