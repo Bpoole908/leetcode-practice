{
 "cells": [
  {
   "cell_type": "markdown",
   "id": "2851a931-41fc-4d80-a1f4-b1e243bdd879",
   "metadata": {},
   "source": [
    "# Trapping Rain Water Problem\n",
    "\n",
    "Go through list and find minleft and maxright for each position using while loop and starting at opposite sides (O(n) time and space). Then compute $min(l, r) - \\text{layout}_i$"
   ]
  },
  {
   "cell_type": "code",
   "execution_count": 1,
   "id": "aef66a2c-e492-4030-af44-df90c6e4b433",
   "metadata": {},
   "outputs": [],
   "source": [
    "def find_right_most(layout, left_height):\n",
    "    right_most = 0\n",
    "    right_idx = Nne\n",
    "    for l in layout:\n",
    "        if l >= left_height:\n",
    "            right_most = left_height\n",
    "            \n",
    "def count_area(layout):\n",
    "    total_area = 0\n",
    "    left_idx = 0\n",
    "    right_idx = len(layout)-1 \n",
    "    maxleft = layout[left_idx]\n",
    "    maxright = layout[right_idx]\n",
    "    # O(n) time, O(1) space\n",
    "    while True:\n",
    "        if left_idx == right_idx:\n",
    "            break\n",
    "        # Shift left pointer\n",
    "        if maxleft <= maxright:\n",
    "            left_idx += 1\n",
    "            maxleft = max(maxleft, layout[left_idx])\n",
    "            area = min(maxleft,maxright) - layout[left_idx]\n",
    "            # No negative area\n",
    "            if area > 0:\n",
    "                print(f\"left area {area} at {left_idx} {right_idx}\")\n",
    "                total_area += area\n",
    "        # shift right pointer\n",
    "        elif maxleft > maxright:\n",
    "            right_idx -= 1\n",
    "            maxright = max(maxright, layout[right_idx])\n",
    "            area = min(maxleft, maxright) - layout[right_idx]\n",
    "            # No negative area\n",
    "            if area > 0:\n",
    "                print(f\"right area found {area} at {left_idx} {right_idx}\")\n",
    "                total_area += area\n",
    "    return total_area"
   ]
  },
  {
   "cell_type": "code",
   "execution_count": 3,
   "id": "c9d1e047-834a-4952-802a-b13538d31ce9",
   "metadata": {},
   "outputs": [
    {
     "name": "stdout",
     "output_type": "stream",
     "text": [
      "left area found 1 at 2 11\n",
      "left area found 1 at 4 10\n",
      "left area found 2 at 5 10\n",
      "left area found 1 at 6 10\n",
      "right area found 1 at 7 9\n"
     ]
    }
   ],
   "source": [
    "x = [0,1,0,2,1,0,1,3,2,1,2,1]\n",
    "output = count_area(x)\n",
    "assert output == 6"
   ]
  },
  {
   "cell_type": "code",
   "execution_count": 32,
   "id": "d80b7048-a2d7-43e5-a275-fa91008fbf35",
   "metadata": {},
   "outputs": [
    {
     "data": {
      "text/plain": [
       "<BarContainer object of 12 artists>"
      ]
     },
     "execution_count": 32,
     "metadata": {},
     "output_type": "execute_result"
    },
    {
     "data": {
      "image/png": "[encoded data removed]",
      "text/plain": [
       "<Figure size 640x480 with 1 Axes>"
      ]
     },
     "metadata": {},
     "output_type": "display_data"
    }
   ],
   "source": [
    "import matplotlib.pyplot as plt\n",
    "plt.bar(range(len(x)), x)"
   ]
  }
 ],
 "metadata": {
  "kernelspec": {
   "display_name": "Python 3 (ipykernel)",
   "language": "python",
   "name": "python3"
  },
  "language_info": {
   "codemirror_mode": {
    "name": "ipython",
    "version": 3
   },
   "file_extension": ".py",
   "mimetype": "text/x-python",
   "name": "python",
   "nbconvert_exporter": "python",
   "pygments_lexer": "ipython3",
   "version": "3.9.19"
  }
 },
 "nbformat": 4,
 "nbformat_minor": 5
}
