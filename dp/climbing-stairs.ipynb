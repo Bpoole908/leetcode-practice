{
 "cells": [
  {
   "cell_type": "markdown",
   "id": "73f73d85-6f0e-4745-b4af-f2a1f0a31292",
   "metadata": {},
   "source": [
    "# Climbing Stairs Problem\n",
    "\n",
    "You are climbing a staircase. It takes n steps to reach the top.\n",
    "\n",
    "Each time you can either climb 1 or 2 steps. In how many distinct ways can you climb to the top?\n",
    "\n",
    "**Optimal Solution: O(n) time, O(1) space.** This is achieved by noticing the pattern of previous two solutions can be used to compute the current. "
   ]
  },
  {
   "cell_type": "code",
   "execution_count": 1,
   "id": "37f26b0b-c9f1-4cdc-ad22-33a692cba881",
   "metadata": {},
   "outputs": [],
   "source": [
    "def climb_stairs(n):\n",
    "    assert n >= 1\n",
    "    if n == 1:\n",
    "        return 1\n",
    "    curr = 2\n",
    "    prev = 1\n",
    "    for i in range(2, n):\n",
    "        nxt = curr\n",
    "        curr = prev + curr\n",
    "        prev = nxt\n",
    "    return curr"
   ]
  },
  {
   "cell_type": "code",
   "execution_count": 2,
   "id": "62c84d35-a835-4266-9d35-1e7e07d1f8aa",
   "metadata": {},
   "outputs": [
    {
     "data": {
      "text/plain": [
       "1"
      ]
     },
     "execution_count": 2,
     "metadata": {},
     "output_type": "execute_result"
    }
   ],
   "source": [
    "climb_stairs(n=1)"
   ]
  },
  {
   "cell_type": "code",
   "execution_count": 3,
   "id": "f886f316-9cc4-4488-89dd-bdfa49db1da7",
   "metadata": {},
   "outputs": [
    {
     "data": {
      "text/plain": [
       "2"
      ]
     },
     "execution_count": 3,
     "metadata": {},
     "output_type": "execute_result"
    }
   ],
   "source": [
    "climb_stairs(n=2)"
   ]
  },
  {
   "cell_type": "code",
   "execution_count": null,
   "id": "ec9145c0-e217-4a23-88a1-b4ed7acbb2db",
   "metadata": {},
   "outputs": [],
   "source": [
    "climb_stairs(n=3)"
   ]
  },
  {
   "cell_type": "code",
   "execution_count": 19,
   "id": "5f555727-3329-421f-8e1e-f9c7bec0f781",
   "metadata": {},
   "outputs": [
    {
     "data": {
      "text/plain": [
       "8"
      ]
     },
     "execution_count": 19,
     "metadata": {},
     "output_type": "execute_result"
    }
   ],
   "source": [
    "climb_stairs(n=5)"
   ]
  }
 ],
 "metadata": {
  "kernelspec": {
   "display_name": "Python 3 (ipykernel)",
   "language": "python",
   "name": "python3"
  },
  "language_info": {
   "codemirror_mode": {
    "name": "ipython",
    "version": 3
   },
   "file_extension": ".py",
   "mimetype": "text/x-python",
   "name": "python",
   "nbconvert_exporter": "python",
   "pygments_lexer": "ipython3",
   "version": "3.9.19"
  }
 },
 "nbformat": 4,
 "nbformat_minor": 5
}
