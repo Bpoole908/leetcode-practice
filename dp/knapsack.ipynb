{
 "cells": [
  {
   "cell_type": "markdown",
   "id": "18ae20ea-0597-41bb-b6aa-cc738f321533",
   "metadata": {},
   "source": [
    "# Knapsack Problem\n",
    "\n",
    "**Optimal Solution: O(nW) time and O(W) space**"
   ]
  },
  {
   "cell_type": "code",
   "execution_count": 1,
   "id": "fd1aa866-ba67-4248-9268-87e99633cc54",
   "metadata": {},
   "outputs": [],
   "source": [
    "def find_max_value(items, max_weight, index=0):\n",
    "    if index >= len(items) or max_weight == 0:\n",
    "        return 0\n",
    "\n",
    "    choosen = items[index]\n",
    "    print(max_weight, choosen)\n",
    "    if choosen['weight'] > max_weight:\n",
    "        print(\"Skip\")\n",
    "        return find_max_value(items, max_weight, index+1)\n",
    "    else:    \n",
    "        value = choosen['value'] + find_max_value(items, max_weight - choosen['weight'], index+1)\n",
    "        next_value = find_max_value(items, max_weight, index+1)\n",
    "\n",
    "    return max(value, next_value)\n"
   ]
  },
  {
   "cell_type": "code",
   "execution_count": 2,
   "id": "a94902c2-78b8-4105-bc9c-861bbde3b61f",
   "metadata": {},
   "outputs": [
    {
     "name": "stdout",
     "output_type": "stream",
     "text": [
      "4 {'weight': 2, 'value': 3}\n",
      "2 {'weight': 3, 'value': 5}\n",
      "Skip\n",
      "2 {'weight': 2, 'value': 3}\n",
      "4 {'weight': 3, 'value': 5}\n",
      "1 {'weight': 2, 'value': 3}\n",
      "Skip\n",
      "4 {'weight': 2, 'value': 3}\n",
      "6\n"
     ]
    }
   ],
   "source": [
    "items = [\n",
    "    dict(weight=2, value=3),\n",
    "    dict(weight=3, value=5),\n",
    "    dict(weight=2, value=3)\n",
    "]\n",
    "output = find_max_value(items, max_weight=4)\n",
    "print(output)"
   ]
  },
  {
   "cell_type": "code",
   "execution_count": 28,
   "id": "0466a657-4a0f-4fc0-9c74-ee087ac8d661",
   "metadata": {},
   "outputs": [],
   "source": [
    "def find_max_value(items, max_weight):\n",
    "    dp = [0 for _ in range(max_weight+1)]\n",
    "\n",
    "    for i in range(len(items)):\n",
    "        weight = items[i]['weight']\n",
    "        value = items[i]['value']\n",
    "        for w in range(max_weight, 0, -1):\n",
    "            if weight <= w:\n",
    "                dp[w] = max(\n",
    "                    dp[w],\n",
    "                    dp[w-weight]+value\n",
    "                )\n",
    "                print(dp, dp[w], dp[w-weight], value)\n",
    "            else:\n",
    "                print(f\"weight {weight} > max weight {w}\")\n",
    "    return dp[max_weight]"
   ]
  },
  {
   "cell_type": "code",
   "execution_count": 29,
   "id": "9818a0f5-8380-4ea2-be9c-8556057336d0",
   "metadata": {},
   "outputs": [
    {
     "name": "stdout",
     "output_type": "stream",
     "text": [
      "[0, 0, 0, 0, 3] 3 0 3\n",
      "[0, 0, 0, 3, 3] 3 0 3\n",
      "[0, 0, 3, 3, 3] 3 0 3\n",
      "weight 2 > max weight 1\n",
      "[0, 0, 3, 3, 5] 5 0 5\n",
      "[0, 0, 3, 5, 5] 5 0 5\n",
      "weight 3 > max weight 2\n",
      "weight 3 > max weight 1\n",
      "[0, 0, 3, 5, 6] 6 3 3\n",
      "[0, 0, 3, 5, 6] 5 0 3\n",
      "[0, 0, 3, 5, 6] 3 0 3\n",
      "weight 2 > max weight 1\n",
      "6\n"
     ]
    }
   ],
   "source": [
    "items = [\n",
    "    dict(weight=2, value=3),\n",
    "    dict(weight=3, value=5),\n",
    "    dict(weight=2, value=3)\n",
    "]\n",
    "output = find_max_value(items, max_weight=4)\n",
    "print(output)"
   ]
  }
 ],
 "metadata": {
  "kernelspec": {
   "display_name": "Python 3 (ipykernel)",
   "language": "python",
   "name": "python3"
  },
  "language_info": {
   "codemirror_mode": {
    "name": "ipython",
    "version": 3
   },
   "file_extension": ".py",
   "mimetype": "text/x-python",
   "name": "python",
   "nbconvert_exporter": "python",
   "pygments_lexer": "ipython3",
   "version": "3.9.19"
  }
 },
 "nbformat": 4,
 "nbformat_minor": 5
}
