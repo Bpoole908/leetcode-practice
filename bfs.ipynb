{
 "cells": [
  {
   "cell_type": "markdown",
   "id": "1c329b2b-2039-4832-bca7-870e19a1b976",
   "metadata": {},
   "source": [
    "# Breadth First Search\n",
    "https://www.geeksforgeeks.org/python-program-for-breadth-first-search-or-bfs-for-a-graph/#\n",
    "\n",
    "**O(V+E) time, O(V) space**"
   ]
  },
  {
   "cell_type": "code",
   "execution_count": 17,
   "id": "38ebb3d4-2daa-47cf-b93b-90c5c99d4c53",
   "metadata": {},
   "outputs": [],
   "source": [
    "from collections import defaultdict, deque\n",
    "def bfs(graph, start):\n",
    "    queue = deque()\n",
    "    # [queue.append(child) for child in graph.pop(start)]\n",
    "    queue.append(start)\n",
    "    visited = []\n",
    "\n",
    "    while len(queue) != 0:\n",
    "        node = queue.popleft()\n",
    "        if node in visited:\n",
    "            print(f'Cycle detected, node {node} already in visited {visited}')\n",
    "            continue\n",
    "        visited.append(node)\n",
    "        for child in graph[node]:\n",
    "            queue.append(child)\n",
    "    return visited\n",
    "            "
   ]
  },
  {
   "cell_type": "code",
   "execution_count": 18,
   "id": "e4ae2d26-3f5a-48f2-92f9-d680e40b0cdb",
   "metadata": {},
   "outputs": [
    {
     "name": "stdout",
     "output_type": "stream",
     "text": [
      "defaultdict(<class 'list'>, {0: [1, 2], 1: [2], 2: [0, 3], 3: [3]})\n",
      "Cycle detected, node 2 already in visited [2, 0, 3, 1]\n",
      "Cycle detected, node 3 already in visited [2, 0, 3, 1]\n",
      "Cycle detected, node 2 already in visited [2, 0, 3, 1]\n"
     ]
    },
    {
     "data": {
      "text/plain": [
       "[2, 0, 3, 1]"
      ]
     },
     "execution_count": 18,
     "metadata": {},
     "output_type": "execute_result"
    }
   ],
   "source": [
    "graph = defaultdict(list)\n",
    "graph[0].extend([1, 2])\n",
    "graph[1].append(2)\n",
    "graph[2].extend([0, 3])\n",
    "graph[3].append(3)\n",
    "print(graph)\n",
    "\n",
    "bfs(graph, start=2)"
   ]
  },
  {
   "attachments": {
    "11cfcb1c-0658-4f86-a01a-714dd949f527.webp": {
     "image/webp": "[encoded data removed]"
    },
    "c586ec2d-6817-4455-a898-64747e4ff8c5.webp": {
     "image/webp": "[encoded data removed]"
    }
   },
   "cell_type": "markdown",
   "id": "d9c4acfa-080b-4260-85ab-225232e2ca73",
   "metadata": {},
   "source": [
    "# Depth First Search\n",
    "\n",
    "Test 1 ![Input_undirected_Graph.webp](attachment:c586ec2d-6817-4455-a898-64747e4ff8c5.webp)\n",
    "\n",
    "Test 2 ![Input_undirected_Graph2.webp](attachment:11cfcb1c-0658-4f86-a01a-714dd949f527.webp)"
   ]
  },
  {
   "cell_type": "code",
   "execution_count": 19,
   "id": "108cc862-74e2-47e6-8f91-42824e68fe11",
   "metadata": {},
   "outputs": [],
   "source": [
    "from collections import defaultdict, deque\n",
    "def dfs(graph, start):\n",
    "    stack = deque()\n",
    "    stack.append(start)\n",
    "    visited = []\n",
    "    # visited = [start]\n",
    "    # [stack.appendleft(child) for child in graph.pop(start)]\n",
    "\n",
    "    while len(stack) != 0:\n",
    "        node = stack.pop()\n",
    "        if node in visited:\n",
    "            print(f'Cycle detected, node {node} already in visited {visited}')\n",
    "            continue\n",
    "        visited.append(node)\n",
    "        for child in graph[node]:\n",
    "            stack.append(child)\n",
    "    return visited\n",
    "            "
   ]
  },
  {
   "cell_type": "code",
   "execution_count": 20,
   "id": "006b2e7b-fccc-4cdc-a20c-78b2c4007aa2",
   "metadata": {},
   "outputs": [
    {
     "name": "stdout",
     "output_type": "stream",
     "text": [
      "defaultdict(<class 'list'>, {0: [1, 2], 1: [0, 2], 2: [0, 1, 3, 4], 3: [2], 4: [2]})\n",
      "Cycle detected, node 2 already in visited [1, 2, 4]\n",
      "Cycle detected, node 2 already in visited [1, 2, 4, 3]\n",
      "Cycle detected, node 1 already in visited [1, 2, 4, 3]\n",
      "Cycle detected, node 2 already in visited [1, 2, 4, 3, 0]\n",
      "Cycle detected, node 1 already in visited [1, 2, 4, 3, 0]\n",
      "Cycle detected, node 0 already in visited [1, 2, 4, 3, 0]\n",
      "visited: [1, 2, 4, 3, 0]\n",
      "defaultdict(<class 'list'>, {0: [2, 3, 1], 1: [0], 2: [0, 4], 3: [0], 4: [2]})\n",
      "Cycle detected, node 0 already in visited [0, 1]\n",
      "Cycle detected, node 0 already in visited [0, 1, 3]\n",
      "Cycle detected, node 2 already in visited [0, 1, 3, 2, 4]\n",
      "Cycle detected, node 0 already in visited [0, 1, 3, 2, 4]\n",
      "visited: [0, 1, 3, 2, 4]\n"
     ]
    }
   ],
   "source": [
    "graph = defaultdict(list)\n",
    "graph[0].extend([1, 2])\n",
    "graph[1].extend([0, 2])\n",
    "graph[2].extend([0, 1, 3, 4])\n",
    "graph[3].extend([2])\n",
    "graph[4].extend([2])\n",
    "print(graph)\n",
    "\n",
    "visited = dfs(graph, start=1)\n",
    "print(f\"visited: {visited}\")\n",
    "# assert visited == [1, 0, 2, 3, 4]\n",
    "\n",
    "graph = defaultdict(list)\n",
    "graph[0].extend([2, 3, 1])\n",
    "graph[1].extend([0])\n",
    "graph[2].extend([0, 4])\n",
    "graph[3].extend([0])\n",
    "graph[4].extend([2])\n",
    "print(graph)\n",
    "\n",
    "visited = dfs(graph, start=0)\n",
    "print(f\"visited: {visited}\")\n",
    "# assert visited == [0, 2, 4, 3, 1]"
   ]
  },
  {
   "cell_type": "code",
   "execution_count": 3,
   "id": "fa642d06-81f2-4743-8953-d98fd39502d2",
   "metadata": {},
   "outputs": [],
   "source": [
    "from collections import defaultdict, deque\n",
    "def dfs(graph, pos, visited=None):\n",
    "    visited = visited or []\n",
    "    # Prevent cycles\n",
    "    if pos in visited:\n",
    "        return visited\n",
    "    # Mark as visited\n",
    "    visited.append(pos)\n",
    "    # Keep trying search deeper\n",
    "    for child in graph[pos]:\n",
    "       dfs(graph, pos=child, visited=visited)\n",
    "        \n",
    "    return visited\n",
    "            "
   ]
  },
  {
   "cell_type": "code",
   "execution_count": 4,
   "id": "3f59e19a-b9dc-4848-a83e-a959667d7dcd",
   "metadata": {},
   "outputs": [
    {
     "name": "stdout",
     "output_type": "stream",
     "text": [
      "defaultdict(<class 'list'>, {0: [1, 2], 1: [0, 2], 2: [0, 1, 3, 4], 3: [2], 4: [2]})\n",
      "visited: [1, 0, 2, 3, 4]\n",
      "defaultdict(<class 'list'>, {0: [2, 3, 1], 1: [0], 2: [0, 4], 3: [0], 4: [2]})\n",
      "visited: [0, 2, 4, 3, 1]\n"
     ]
    }
   ],
   "source": [
    "graph = defaultdict(list)\n",
    "graph[0].extend([1, 2])\n",
    "graph[1].extend([0, 2])\n",
    "graph[2].extend([0, 1, 3, 4])\n",
    "graph[3].extend([2])\n",
    "graph[4].extend([2])\n",
    "print(graph)\n",
    "\n",
    "visited = dfs(graph, pos=1)\n",
    "print(f\"visited: {visited}\")\n",
    "assert visited == [1, 0, 2, 3, 4]\n",
    "\n",
    "graph = defaultdict(list)\n",
    "graph[0].extend([2, 3, 1])\n",
    "graph[1].extend([0])\n",
    "graph[2].extend([0, 4])\n",
    "graph[3].extend([0])\n",
    "graph[4].extend([2])\n",
    "print(graph)\n",
    "\n",
    "visited = dfs(graph, pos=0)\n",
    "print(f\"visited: {visited}\")\n",
    "assert visited == [0, 2, 4, 3, 1]"
   ]
  }
 ],
 "metadata": {
  "kernelspec": {
   "display_name": "Python 3 (ipykernel)",
   "language": "python",
   "name": "python3"
  },
  "language_info": {
   "codemirror_mode": {
    "name": "ipython",
    "version": 3
   },
   "file_extension": ".py",
   "mimetype": "text/x-python",
   "name": "python",
   "nbconvert_exporter": "python",
   "pygments_lexer": "ipython3",
   "version": "3.9.19"
  }
 },
 "nbformat": 4,
 "nbformat_minor": 5
}
