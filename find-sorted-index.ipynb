{
 "cells": [
  {
   "cell_type": "markdown",
   "id": "7d637483-1ef4-455c-b80d-8986096123e1",
   "metadata": {},
   "source": [
    "# Find Sorted Index\n",
    "\n",
    "Goal is to find the sorted index either of a target or the number with the highest frequency. "
   ]
  },
  {
   "cell_type": "code",
   "execution_count": 3,
   "id": "8953313d-2c72-4bed-afe8-be4e459ae264",
   "metadata": {},
   "outputs": [],
   "source": [
    "from collections import Counter\n",
    "\n",
    "def find_most_common_sorted_index(nums):\n",
    "    count = Counter(nums) # O(n)\n",
    "    most_common, count = count.most_common(1)[0] # O(n)\n",
    "    print(f\"Most common: {most_common}\")\n",
    "    return find_sorted_index(nums, target=most_common)\n",
    "\n",
    "def find_sorted_index(nums, target):\n",
    "    equal_to = 0\n",
    "    less_than = 0\n",
    "    for n in nums: # Time O(n)\n",
    "        if n < target:\n",
    "            less_than += 1\n",
    "        elif n == target:\n",
    "            equal_to += 1\n",
    "    return list(range(equal_to+less_than))[-equal_to:]"
   ]
  },
  {
   "cell_type": "code",
   "execution_count": 4,
   "id": "da44741a-6071-43ca-b460-1e71d6b672a2",
   "metadata": {},
   "outputs": [
    {
     "name": "stdout",
     "output_type": "stream",
     "text": [
      "[1, 2]\n"
     ]
    }
   ],
   "source": [
    "output = find_sorted_index(nums=[33, 22, 33, 11, 22], target=22)\n",
    "print(output)\n",
    "assert output == [1, 2]"
   ]
  },
  {
   "cell_type": "code",
   "execution_count": 5,
   "id": "f2225c4f-2e43-4e77-92ed-c16fb1873eb3",
   "metadata": {},
   "outputs": [
    {
     "name": "stdout",
     "output_type": "stream",
     "text": [
      "Most common: 33\n",
      "[3, 4]\n"
     ]
    }
   ],
   "source": [
    "output = find_most_common_sorted_index(nums=[33, 22, 33, 11, 22])\n",
    "print(output)\n",
    "assert output == [3, 4]"
   ]
  },
  {
   "cell_type": "markdown",
   "id": "7759f332-1023-445b-896e-d4a82268745e",
   "metadata": {},
   "source": [
    "## Find All Sorted"
   ]
  },
  {
   "cell_type": "code",
   "execution_count": 5,
   "id": "bbf97666-f19e-4c8c-ae1a-50dede89a86b",
   "metadata": {},
   "outputs": [],
   "source": [
    "from collections import Counter, defaultdict, deque\n",
    "\n",
    "def find_all_indices(nums):\n",
    "    sorted_nums = sorted(nums) # O(nlogn) but best case O(n)\n",
    "    sorted_index_map = defaultdict(deque)\n",
    "    print(sorted_nums)\n",
    "    for pos, num in enumerate(sorted_nums): # O(n)\n",
    "        sorted_index_map[num].append(pos)\n",
    "    print(sorted_index_map)\n",
    "    output = []\n",
    "    for n in nums: # O(n)\n",
    "       output.append(sorted_index_map[n].popleft()) # O(1) popleft() < pop(0) for list\n",
    "    return output \n"
   ]
  },
  {
   "cell_type": "code",
   "execution_count": 6,
   "id": "d88f0734-30f8-455a-8ce8-dbd453bf1ea9",
   "metadata": {},
   "outputs": [
    {
     "name": "stdout",
     "output_type": "stream",
     "text": [
      "[11, 22, 33, 33, 44]\n",
      "defaultdict(<class 'collections.deque'>, {11: deque([0]), 22: deque([1]), 33: deque([2, 3]), 44: deque([4])})\n",
      "[2, 4, 3, 0, 1]\n"
     ]
    }
   ],
   "source": [
    "output = find_all_indices(nums=[33, 44, 33, 11, 22])\n",
    "print(output)\n",
    "assert output == [2, 4, 3, 0, 1], f\"Expected: { [2, 4, 3, 0, 1]}\""
   ]
  }
 ],
 "metadata": {
  "kernelspec": {
   "display_name": "Python 3 (ipykernel)",
   "language": "python",
   "name": "python3"
  },
  "language_info": {
   "codemirror_mode": {
    "name": "ipython",
    "version": 3
   },
   "file_extension": ".py",
   "mimetype": "text/x-python",
   "name": "python",
   "nbconvert_exporter": "python",
   "pygments_lexer": "ipython3",
   "version": "3.12.9"
  }
 },
 "nbformat": 4,
 "nbformat_minor": 5
}
