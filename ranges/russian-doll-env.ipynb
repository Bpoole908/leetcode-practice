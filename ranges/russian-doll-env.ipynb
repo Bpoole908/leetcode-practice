{
 "cells": [
  {
   "cell_type": "markdown",
   "id": "145ed9fa-baba-4e10-b13f-890b2b6a6862",
   "metadata": {},
   "source": [
    "You are given a 2D array of integers envelopes where envelopes[i] = [wi, hi] represents the width and the height of an envelope.\n",
    "\n",
    "One envelope can fit into another if and only if both the width and height of one envelope are greater than the other envelope's width and height.\n",
    "\n",
    "Return the maximum number of envelopes you can Russian doll (i.e., put one inside the other).\n",
    "\n",
    "Note: You cannot rotate an envelope.\n",
    "\n",
    "Example 1:\n",
    "\n",
    "Input: envelopes = [[5,4],[6,4],[6,7],[2,3]]\n",
    "Output: 3\n",
    "Explanation: The maximum number of envelopes you can Russian doll is 3 ([2,3] => [5,4] => [6,7]).\n",
    "\n",
    "Example 2:\n",
    "\n",
    "Input: envelopes = [[1,1],[1,1],[1,1]]\n",
    "Output: 1\n"
   ]
  },
  {
   "cell_type": "markdown",
   "id": "5b6357ab-7ec2-4528-9e3a-c4b42ad42b47",
   "metadata": {},
   "source": [
    "Trick sort width's then find longest increasing subsequence. "
   ]
  },
  {
   "cell_type": "code",
   "execution_count": 101,
   "id": "157e439f-a1c4-4d52-9cc9-fae472d44dab",
   "metadata": {},
   "outputs": [],
   "source": [
    "def max_envelopes(envs):\n",
    "    envs = sorted(envs, key=lambda x: (x[0], -x[1])) # O(nlogn)\n",
    "    print(envs)\n",
    "    dp =[]\n",
    "\n",
    "    for i in range(len(envs)): # O(n)\n",
    "        w, h = envs[i]\n",
    "        j = 0\n",
    "        while j < len(dp):# O(n)\n",
    "            if h <= dp[j]: break\n",
    "            j+= 1\n",
    "       \n",
    "        if j == len(dp):\n",
    "            dp.append(h)\n",
    "        else:\n",
    "            dp[j] = h\n",
    "        print(dp, j, len(dp)-1)\n",
    "    print(dp)\n",
    "    return len(dp)"
   ]
  },
  {
   "cell_type": "code",
   "execution_count": 2,
   "id": "f2f309b3-3c7e-4030-81d1-f285daaf8cf2",
   "metadata": {},
   "outputs": [],
   "source": [
    "from bisect import bisect_left\n",
    "def max_envelopes(envs):\n",
    "    envs = sorted(envs, key=lambda x: (x[0], -x[1])) # O(nlogn)\n",
    "    print(envs)\n",
    "    dp = []\n",
    "    # O(n)\n",
    "    for i in range(len(envs)): # O(n)\n",
    "        w, h = envs[i]\n",
    "        # O(Logn)\n",
    "        j = bisect_left(dp, h)\n",
    "       \n",
    "        if j == len(dp):\n",
    "            dp.append(h)\n",
    "        else:\n",
    "            dp[j] = h\n",
    "        print(dp, j, len(dp)-1)\n",
    "    print(dp)\n",
    "    return len(dp)"
   ]
  },
  {
   "cell_type": "code",
   "execution_count": 108,
   "id": "9984f0a7-4379-49e3-96d2-1a38a15e3fd5",
   "metadata": {},
   "outputs": [
    {
     "name": "stdout",
     "output_type": "stream",
     "text": [
      "[[2, 3], [5, 4], [6, 7], [6, 4]]\n",
      "[3] 0 0\n",
      "[3, 4] 1 1\n",
      "[3, 4, 7] 2 2\n",
      "[3, 4, 7] 1 2\n",
      "[3, 4, 7]\n",
      "3\n"
     ]
    }
   ],
   "source": [
    "output = max_envelopes( [[5,4],[6,7],[6,4],[2,3]])\n",
    "print(output)\n",
    "assert output == 3"
   ]
  },
  {
   "cell_type": "code",
   "execution_count": 3,
   "id": "19ba04fd-139d-4db3-b9ec-87183b86c03e",
   "metadata": {},
   "outputs": [
    {
     "name": "stdout",
     "output_type": "stream",
     "text": [
      "[[2, 10], [5, 4], [6, 7], [6, 4], [7, 11]]\n",
      "[10] 0 0\n",
      "[4] 0 0\n",
      "[4, 7] 1 1\n",
      "[4, 7] 0 1\n",
      "[4, 7, 11] 2 2\n",
      "[4, 7, 11]\n",
      "3\n"
     ]
    }
   ],
   "source": [
    "output = max_envelopes([[5,4],[6,4],[6,7],[2,10]])\n",
    "print(output)\n",
    "# assert output == 2"
   ]
  },
  {
   "cell_type": "code",
   "execution_count": 110,
   "id": "0d09f672-4c75-4a29-ae38-c5b851d45944",
   "metadata": {},
   "outputs": [
    {
     "name": "stdout",
     "output_type": "stream",
     "text": [
      "[[1, 1], [1, 1], [1, 1], [1, 1]]\n",
      "[1] 0 0\n",
      "[1] 0 0\n",
      "[1] 0 0\n",
      "[1] 0 0\n",
      "[1]\n",
      "1\n"
     ]
    }
   ],
   "source": [
    "output =max_envelopes([[1,1],[1,1],[1, 1],[1, 1]])\n",
    "print(output)\n",
    "assert output == 1"
   ]
  }
 ],
 "metadata": {
  "kernelspec": {
   "display_name": "Python 3 (ipykernel)",
   "language": "python",
   "name": "python3"
  },
  "language_info": {
   "codemirror_mode": {
    "name": "ipython",
    "version": 3
   },
   "file_extension": ".py",
   "mimetype": "text/x-python",
   "name": "python",
   "nbconvert_exporter": "python",
   "pygments_lexer": "ipython3",
   "version": "3.9.19"
  }
 },
 "nbformat": 4,
 "nbformat_minor": 5
}
