{
 "cells": [
  {
   "cell_type": "markdown",
   "id": "4ce84ea2-4313-45f4-b12c-6af1a9af80e8",
   "metadata": {},
   "source": [
    "Given a list of ranges determine if a provided point is contained within any of the ranges. Return True if true and False is not."
   ]
  },
  {
   "cell_type": "code",
   "execution_count": 47,
   "id": "ace71b74-cd28-4fc2-930b-e54ab6238323",
   "metadata": {},
   "outputs": [],
   "source": [
    "from bisect import bisect_right\n",
    "# from sortedcotainers import SortDict\n",
    "class RangeDetection:\n",
    "    def __init__(self):\n",
    "        self.ranges = []\n",
    "        \n",
    "    def add_ranges(self, ranges):\n",
    "        # O(nlogn) + O(n)\n",
    "        \n",
    "        # O(nlogn) \n",
    "        ranges = sorted(ranges, key=lambda x:x[0])\n",
    "\n",
    "        # O(n)\n",
    "        merged = [ranges[0]]\n",
    "        for start, end in ranges[1:]:\n",
    "            prior_start, prior_end = merged[-1]\n",
    "            if start <= prior_end:\n",
    "                merged[-1][1] = max(end, prior_end)\n",
    "            else:\n",
    "                merged.append([start, end])\n",
    "                \n",
    "        self.ranges = merged\n",
    "        \n",
    "    def isin(self, point):\n",
    "        # O(logn)\n",
    "        loc = bisect_right(self.ranges, point, key=lambda x: x[0])\n",
    "        start, end = self.ranges[loc - 1]\n",
    "        return start <= point <= end"
   ]
  },
  {
   "cell_type": "code",
   "execution_count": 48,
   "id": "bed87f92-3d94-41d5-9f0f-8adc66e0f8e3",
   "metadata": {},
   "outputs": [
    {
     "name": "stdout",
     "output_type": "stream",
     "text": [
      "Ranges: [[2, 5], [7, 9], [12, 15]]\n"
     ]
    }
   ],
   "source": [
    "ranges = [[2, 5], [12, 15], [7, 9]]\n",
    "rd = RangeDetection()\n",
    "rd.add_ranges(ranges)\n",
    "print(f\"Ranges: {rd.ranges}\")\n",
    "assert rd.isin(5)\n",
    "assert rd.isin(9)\n",
    "assert rd.isin(13)\n",
    "assert rd.isin(2)\n",
    "assert not rd.isin(-1)\n",
    "assert not rd.isin(0)\n",
    "assert not rd.isin(20)\n",
    "assert not rd.isin(6)"
   ]
  },
  {
   "cell_type": "code",
   "execution_count": 56,
   "id": "8fa5e9da-45a8-4444-a5bf-ccdafc244ce1",
   "metadata": {},
   "outputs": [
    {
     "name": "stdout",
     "output_type": "stream",
     "text": [
      "Ranges: [[1, 5], [7, 10], [12, 15]]\n"
     ]
    }
   ],
   "source": [
    "ranges = [[2, 5], [12, 15], [7, 9], [8, 10], [1, 4]]\n",
    "rd = RangeDetection()\n",
    "rd.add_ranges(ranges)\n",
    "print(f\"Ranges: {rd.ranges}\")\n",
    "assert rd.isin(5)\n",
    "assert rd.isin(9)\n",
    "assert rd.isin(13)\n",
    "assert rd.isin(2)\n",
    "assert not rd.isin(-1)\n",
    "assert not rd.isin(0)\n",
    "assert not rd.isin(20)\n",
    "assert not rd.isin(6)"
   ]
  }
 ],
 "metadata": {
  "kernelspec": {
   "display_name": "Python 3 (ipykernel)",
   "language": "python",
   "name": "python3"
  },
  "language_info": {
   "codemirror_mode": {
    "name": "ipython",
    "version": 3
   },
   "file_extension": ".py",
   "mimetype": "text/x-python",
   "name": "python",
   "nbconvert_exporter": "python",
   "pygments_lexer": "ipython3",
   "version": "3.12.9"
  }
 },
 "nbformat": 4,
 "nbformat_minor": 5
}
