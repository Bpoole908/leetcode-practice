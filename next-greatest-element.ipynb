{
 "cells": [
  {
   "cell_type": "markdown",
   "id": "9e7cf29b-a12c-4c4a-9208-9c46a58f0abb",
   "metadata": {},
   "source": [
    "Given a circular integer array nums (i.e., the next element of nums[nums.length - 1] is nums[0]), return the next greater number for every element in nums.\n",
    "\n",
    "The next greater number of a number x is the first greater number to its traversing-order next in the array, which means you could search circularly to find its next greater number. If it doesn't exist, return -1 for this number.\n",
    "\n",
    " \n",
    "\n",
    "Example 1:\n",
    "\n",
    "Input: nums = [1,2,1]\n",
    "Output: [2,-1,2]\n",
    "Explanation: The first 1's next greater number is 2; \n",
    "The number 2 can't find next greater number. \n",
    "The second 1's next greater number needs to search circularly, which is also 2.\n",
    "\n",
    "Example 2:\n",
    "\n",
    "Input: nums = [1,2,3,4,3]\n",
    "Output: [2,3,4,-1,4]\n"
   ]
  },
  {
   "cell_type": "code",
   "execution_count": 56,
   "id": "d9de35e0-e28c-4b4e-afcd-47225e1dc9e8",
   "metadata": {},
   "outputs": [],
   "source": [
    "def next_greatest_element(nums):\n",
    "    # Stack contains index positions\n",
    "    # Space O(n) for result\n",
    "    stack, res= [], [-1 for _ in range(len(nums))] \n",
    "\n",
    "    # Time O(n)\n",
    "    for i in list(range(len(nums))):\n",
    "        # Modify condition based on the problem\n",
    "        while stack and nums[stack[-1]] < nums[i]:\n",
    "            res[stack.pop()] = nums[i]\n",
    "        # Append current value and index\n",
    "        stack.append(i)\n",
    "    print(res, stack)\n",
    "    # Time O(n)\n",
    "    for i in list(range(len(nums))):\n",
    "        # Modify condition based on the problem\n",
    "        while stack and nums[stack[-1]] < nums[i]:\n",
    "            res[stack.pop()] = nums[i]\n",
    "        # Append current value and index\n",
    "        stack.append(i)\n",
    "        if len(stack) == 0:\n",
    "            break\n",
    "    print(res, stack)\n",
    "    return res"
   ]
  },
  {
   "cell_type": "code",
   "execution_count": 57,
   "id": "d1de7975-7846-4ba0-8ede-475dca3f7ae0",
   "metadata": {},
   "outputs": [
    {
     "name": "stdout",
     "output_type": "stream",
     "text": [
      "[2, 3, 4, -1, -1] [3, 4]\n",
      "[2, 3, 4, -1, 4] [3, 3, 4]\n"
     ]
    }
   ],
   "source": [
    "output = next_greatest_element(nums=[1,2,3,4,3])\n",
    "assert output == [2, 3, 4, -1, 4]"
   ]
  },
  {
   "cell_type": "code",
   "execution_count": 58,
   "id": "b88cecbc-3a8a-4dba-9ced-aa14fd92fec2",
   "metadata": {},
   "outputs": [],
   "source": [
    "# Python implementation to find the next\n",
    "# greater element using a stack\n",
    "def nextLargerElement(arr):\n",
    "    n = len(arr)\n",
    "    res = [-1] * n  \n",
    "    stk = []  \n",
    "\n",
    "    # Traverse the array from right to left\n",
    "    for i in range(n - 1, -1, -1):\n",
    "\n",
    "        # Pop elements from the stack that are less \n",
    "        # than or equal to the current element\n",
    "        while stk and arr[stk[-1]] <= arr[i]:\n",
    "            stk.pop()\n",
    "\n",
    "        # If the stack is not empty, the element at the \n",
    "        # top of the stack is the next greater element\n",
    "        if stk:\n",
    "            res[i] = arr[stk[-1]]\n",
    "\n",
    "        # Push the current index onto the stack\n",
    "        stk.append(i)\n",
    "\n",
    "    \n",
    "    # Traverse the array from right to left\n",
    "    for i in range(n - 1, -1, -1):\n",
    "\n",
    "        # Pop elements from the stack that are less \n",
    "        # than or equal to the current element\n",
    "        while stk and arr[stk[-1]] <= arr[i]:\n",
    "            stk.pop()\n",
    "\n",
    "        # If the stack is not empty, the element at the \n",
    "        # top of the stack is the next greater element\n",
    "        if stk:\n",
    "            res[i] = arr[stk[-1]]\n",
    "\n",
    "        # Push the current index onto the stack\n",
    "        stk.append(i)\n",
    "\n",
    "    return res"
   ]
  },
  {
   "cell_type": "code",
   "execution_count": 60,
   "id": "8d6a8389-2b7f-4b5e-8350-629bf5bfda48",
   "metadata": {},
   "outputs": [
    {
     "name": "stdout",
     "output_type": "stream",
     "text": [
      "[2, 3, 4, -1, 4]\n"
     ]
    }
   ],
   "source": [
    "output = nextLargerElement(arr=[1,2,3,4,3])\n",
    "print(output)\n",
    "assert output == [2, 3, 4, -1, 4]"
   ]
  }
 ],
 "metadata": {
  "kernelspec": {
   "display_name": "Python 3 (ipykernel)",
   "language": "python",
   "name": "python3"
  },
  "language_info": {
   "codemirror_mode": {
    "name": "ipython",
    "version": 3
   },
   "file_extension": ".py",
   "mimetype": "text/x-python",
   "name": "python",
   "nbconvert_exporter": "python",
   "pygments_lexer": "ipython3",
   "version": "3.12.9"
  }
 },
 "nbformat": 4,
 "nbformat_minor": 5
}
