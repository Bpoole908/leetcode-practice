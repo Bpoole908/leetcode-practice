{
 "cells": [
  {
   "cell_type": "markdown",
   "id": "c387884b-5222-43aa-974d-ec931944d451",
   "metadata": {},
   "source": [
    "# Topological Sort\n",
    "\n",
    "**O(V+E) time, O(V) space**"
   ]
  },
  {
   "cell_type": "code",
   "execution_count": 49,
   "id": "07d0e3c9-2380-4192-bd77-77a92caf8e7b",
   "metadata": {},
   "outputs": [],
   "source": [
    "from collections import defaultdict, deque\n",
    "\n",
    "def helper(graph, pos, visited, stack):\n",
    "    visited[pos] = True\n",
    "    for i in graph[pos]:\n",
    "        if not visited[i]:\n",
    "           helper(graph, pos=i, visited=visited, stack=stack)\n",
    "    # Backtrack once you hit a node with no childern or has already been seen\n",
    "    stack.append(pos)\n",
    "    \n",
    "def topo_sort(graph, V):\n",
    "    visited = [False] * V\n",
    "    stack = []\n",
    "    # Keep trying search deeper\n",
    "    for i in range(V):\n",
    "        if not visited[i]:\n",
    "           helper(graph, pos=i, visited=visited, stack=stack)\n",
    "            \n",
    "    return stack[::-1]\n",
    " \n",
    " \n",
    "            "
   ]
  },
  {
   "cell_type": "code",
   "execution_count": 50,
   "id": "d2ae21e8-73b2-4024-9b56-9550666e3ccd",
   "metadata": {},
   "outputs": [
    {
     "name": "stdout",
     "output_type": "stream",
     "text": [
      "defaultdict(<class 'list'>, {2: [3], 3: [1, 0], 4: [0, 1], 5: [0, 2]})\n"
     ]
    },
    {
     "data": {
      "text/plain": [
       "[5, 4, 2, 3, 1, 0]"
      ]
     },
     "execution_count": 50,
     "metadata": {},
     "output_type": "execute_result"
    }
   ],
   "source": [
    "graph = defaultdict(list)\n",
    "graph[2].extend([3])\n",
    "graph[3].extend([1, 0])\n",
    "graph[4].extend([0, 1])\n",
    "graph[5].extend([0, 2])\n",
    "print(graph)\n",
    "\n",
    "topo_sort(graph, 6)"
   ]
  },
  {
   "cell_type": "code",
   "execution_count": 34,
   "id": "317a2f14-8dd4-46e2-a6ec-855b444fc171",
   "metadata": {},
   "outputs": [
    {
     "name": "stdout",
     "output_type": "stream",
     "text": [
      "defaultdict(<class 'list'>, {0: [1], 1: [2], 3: [1, 2]})\n"
     ]
    },
    {
     "data": {
      "text/plain": [
       "[3, 0, 1, 2]"
      ]
     },
     "execution_count": 34,
     "metadata": {},
     "output_type": "execute_result"
    }
   ],
   "source": [
    "graph = defaultdict(list)\n",
    "graph[0].extend([1])\n",
    "graph[1].extend([2])\n",
    "graph[3].extend([1, 2])\n",
    "print(graph)\n",
    "\n",
    "topo_sort(graph, 4)"
   ]
  }
 ],
 "metadata": {
  "kernelspec": {
   "display_name": "Python 3 (ipykernel)",
   "language": "python",
   "name": "python3"
  },
  "language_info": {
   "codemirror_mode": {
    "name": "ipython",
    "version": 3
   },
   "file_extension": ".py",
   "mimetype": "text/x-python",
   "name": "python",
   "nbconvert_exporter": "python",
   "pygments_lexer": "ipython3",
   "version": "3.9.19"
  }
 },
 "nbformat": 4,
 "nbformat_minor": 5
}
