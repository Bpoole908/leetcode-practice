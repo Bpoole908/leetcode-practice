{
 "cells": [
  {
   "cell_type": "markdown",
   "id": "66e31ce2-c4ca-4ff2-95c0-87e0f11f69bb",
   "metadata": {},
   "source": [
    "# Reorder List\n",
    " **Time O(n), space O(1)**"
   ]
  },
  {
   "cell_type": "code",
   "execution_count": 2,
   "id": "140e9bb3-7ce1-47e0-bd7f-b81ee4c55900",
   "metadata": {},
   "outputs": [],
   "source": [
    "class LinkedNode:\n",
    "    def __init__(self, x, next=None):\n",
    "        self.val = x\n",
    "        self.next = next"
   ]
  },
  {
   "cell_type": "code",
   "execution_count": 23,
   "id": "ba9a2388-ed5e-4933-924e-7afada194879",
   "metadata": {},
   "outputs": [],
   "source": [
    "def reoder_list(head):\n",
    "    slow, fast = head, head.next\n",
    "    # Get to half of the list\n",
    "    while fast and fast.next:\n",
    "        slow = slow.next\n",
    "        fast = fast.next.next\n",
    "        \n",
    "    # Break list where slow ends (into two parts)\n",
    "    second = slow.next\n",
    "    slow.next = None\n",
    "    prev = None\n",
    "    while second:\n",
    "        # temp pointer to next\n",
    "        tmp = second.next \n",
    "        # Rewrite the current second position\n",
    "        second.next = prev\n",
    "        # Set previous to what was current second\n",
    "        prev = second\n",
    "        # Move second to what was the next element in the list\n",
    "        second = tmp\n",
    "\n",
    "    # Merge the two parts\n",
    "    first = head\n",
    "    second = prev\n",
    "    while first and second:\n",
    "        first_tmp, second_tmp = first.next, second.next\n",
    "        first.next = second\n",
    "        second.next = first_tmp\n",
    "        first = first_tmp\n",
    "        second = second_tmp"
   ]
  },
  {
   "cell_type": "code",
   "execution_count": 24,
   "id": "9876edb9-8230-44e2-b9a9-a1441bfb96c0",
   "metadata": {},
   "outputs": [
    {
     "name": "stdout",
     "output_type": "stream",
     "text": [
      "[1, 2, 3, 4]\n",
      "[1, 4, 2, 3]\n"
     ]
    }
   ],
   "source": [
    "node1 = LinkedNode(1) \n",
    "node2 = LinkedNode(2)\n",
    "node3 = LinkedNode(3)\n",
    "node4 = LinkedNode(4)\n",
    "\n",
    "node1.next = node2\n",
    "node2.next = node3\n",
    "node3.next = node4\n",
    "order = []\n",
    "tmp = node1\n",
    "while tmp:\n",
    "    order.append(tmp.val)\n",
    "    tmp = tmp.next\n",
    "print(order)\n",
    "\n",
    "k_group_reverse_order(node1)\n",
    "\n",
    "order = []\n",
    "tmp = node1\n",
    "while tmp:\n",
    "    order.append(tmp.val)\n",
    "    tmp = tmp.next\n",
    "print(order)"
   ]
  },
  {
   "cell_type": "code",
   "execution_count": 25,
   "id": "1bb0e96c-ba73-4f03-8a0f-598751636ae0",
   "metadata": {},
   "outputs": [
    {
     "name": "stdout",
     "output_type": "stream",
     "text": [
      "[1, 2, 3, 4, 5]\n",
      "[1, 5, 2, 4, 3]\n"
     ]
    }
   ],
   "source": [
    "node1 = LinkedNode(1) \n",
    "node2 = LinkedNode(2)\n",
    "node3 = LinkedNode(3)\n",
    "node4 = LinkedNode(4)\n",
    "node5 = LinkedNode(5)\n",
    "\n",
    "node1.next = node2\n",
    "node2.next = node3\n",
    "node3.next = node4\n",
    "node4.next = node5\n",
    "\n",
    "order = []\n",
    "tmp = node1\n",
    "while tmp:\n",
    "    order.append(tmp.val)\n",
    "    tmp = tmp.next\n",
    "print(order)\n",
    "\n",
    "k_group_reverse_order(node1)\n",
    "\n",
    "order = []\n",
    "tmp = node1\n",
    "while tmp:\n",
    "    order.append(tmp.val)\n",
    "    tmp = tmp.next\n",
    "print(order)"
   ]
  }
 ],
 "metadata": {
  "kernelspec": {
   "display_name": "Python 3 (ipykernel)",
   "language": "python",
   "name": "python3"
  },
  "language_info": {
   "codemirror_mode": {
    "name": "ipython",
    "version": 3
   },
   "file_extension": ".py",
   "mimetype": "text/x-python",
   "name": "python",
   "nbconvert_exporter": "python",
   "pygments_lexer": "ipython3",
   "version": "3.9.19"
  }
 },
 "nbformat": 4,
 "nbformat_minor": 5
}
